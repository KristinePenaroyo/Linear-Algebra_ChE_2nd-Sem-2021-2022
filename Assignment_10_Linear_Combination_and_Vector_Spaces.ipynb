{
  "cells": [
    {
      "cell_type": "markdown",
      "metadata": {
        "id": "view-in-github",
        "colab_type": "text"
      },
      "source": [
        "<a href=\"https://colab.research.google.com/github/KristinePenaroyo/Linear-Algebra_ChE_2nd-Sem-2021-2022/blob/main/Assignment_10_Linear_Combination_and_Vector_Spaces.ipynb\" target=\"_parent\"><img src=\"https://colab.research.google.com/assets/colab-badge.svg\" alt=\"Open In Colab\"/></a>"
      ]
    },
    {
      "cell_type": "markdown",
      "metadata": {
        "id": "SyuptG1anqE1"
      },
      "source": [
        "# Linear Algebra for ChE"
      ]
    },
    {
      "cell_type": "markdown",
      "metadata": {
        "id": "4iA_e6njntcN"
      },
      "source": [
        "## Laboratory 05 : Linear Combination and Vector Spaces"
      ]
    },
    {
      "cell_type": "markdown",
      "metadata": {
        "id": "fsyPbdY7oDFQ"
      },
      "source": [
        "Now that you know the basics of scientific programming, we'll try to use it to show you how linear combinations work."
      ]
    },
    {
      "cell_type": "markdown",
      "source": [
        "### Objectives\n",
        "At the end of this activity you will be able to:\n",
        "1. Understand how to represent two-dimensional linear combinations.\n",
        "2. Use vector fields to visualize spans using Python.\n",
        "3. Perform vector field operations using scientific programming."
      ],
      "metadata": {
        "id": "ZoJjOvrXFq2P"
      }
    },
    {
      "cell_type": "markdown",
      "metadata": {
        "id": "nibMSGrroHq7"
      },
      "source": [
        "##Discussion"
      ]
    },
    {
      "cell_type": "code",
      "execution_count": 7,
      "metadata": {
        "id": "vSBrVJsin0oF"
      },
      "outputs": [],
      "source": [
        "import numpy as np\n",
        "import matplotlib.pyplot as plt\n",
        "%matplotlib inline"
      ]
    },
    {
      "cell_type": "markdown",
      "source": [
        "## Linear Combination\n",
        "A linear combination is defined as the combination of linear scaling and the addition of a vector's bases/components. By charting a sample of real number values for the scalars, we will see vectors and their linear combinations. Let's start with the vectors below:\n",
        "$$\n",
        "J = \\begin{bmatrix} 2\\\\9\\\\\\end{bmatrix} , \n",
        "K = \\begin{bmatrix} 8\\\\5\\\\\\end{bmatrix} \n",
        "$$"
      ],
      "metadata": {
        "id": "9pbEiMzTFz5M"
      }
    },
    {
      "cell_type": "code",
      "execution_count": 8,
      "metadata": {
        "id": "kEF9EnsXoZwY"
      },
      "outputs": [],
      "source": [
        "vectJ = np.array([2,9])\n",
        "vectK = np.array([8,5])\n"
      ]
    },
    {
      "cell_type": "markdown",
      "source": [
        "#### Span of single vectors\n",
        "As mentioned in the lecture, a line span may be used to represent the span of individual vectors. As an example, consider vector $J$.  \n",
        "\n",
        "$$\n",
        "J = c\\cdot \\begin{bmatrix} 2\\\\9\\\\\\end{bmatrix}\n",
        "$$"
      ],
      "metadata": {
        "id": "R4dJrLJHGT2D"
      }
    },
    {
      "cell_type": "code",
      "source": [
        "c = np.arange(-15,15,0.625)\n",
        "\n",
        "plt.scatter(c*vectJ[0],c*vectJ[1])\n",
        "\n",
        "plt.xlim(-15,15)\n",
        "plt.ylim(-15,15)\n",
        "plt.axhline(y=0, color='aquamarine')\n",
        "plt.axvline(x=0, color='turquoise')\n",
        "plt.grid()\n",
        "plt.show()"
      ],
      "metadata": {
        "colab": {
          "base_uri": "https://localhost:8080/",
          "height": 269
        },
        "id": "efgvJILPG7gw",
        "outputId": "7cda4450-887b-42ac-8970-db54ad1eddf7"
      },
      "execution_count": 12,
      "outputs": [
        {
          "output_type": "display_data",
          "data": {
            "text/plain": [
              "<Figure size 432x288 with 1 Axes>"
            ],
            "image/png": "[encoded data removed]"
          },
          "metadata": {
            "needs_background": "light"
          }
        }
      ]
    },
    {
      "cell_type": "code",
      "source": [
        "c = np.arange(-13,13,0.32)\n",
        "\n",
        "plt.scatter(c*vectK[0],c*vectK[1])\n",
        "\n",
        "plt.xlim(-35,35)\n",
        "plt.ylim(-35,35)\n",
        "plt.axhline(y=0, color='teal')\n",
        "plt.axvline(x=0, color='darkcyan')\n",
        "plt.grid()\n",
        "plt.show()"
      ],
      "metadata": {
        "colab": {
          "base_uri": "https://localhost:8080/",
          "height": 265
        },
        "id": "LaNA63krG-FK",
        "outputId": "ba42d8f9-fc36-42ac-fadb-765f51d93bd6"
      },
      "execution_count": 13,
      "outputs": [
        {
          "output_type": "display_data",
          "data": {
            "text/plain": [
              "<Figure size 432x288 with 1 Axes>"
            ],
            "image/png": "[encoded data removed]"
          },
          "metadata": {
            "needs_background": "light"
          }
        }
      ]
    },
    {
      "cell_type": "markdown",
      "source": [
        "### Span of a linear combination of vectors\n",
        "So, suppose we wanted to plot the span of a linear vector combination. We can represent it as a plane in a two-dimensional coordinate system. Consider the length of the following linear combination:\n",
        "\n",
        "$$\n",
        "S = \\begin{Bmatrix}\n",
        "      c_1 \\cdot\\begin{bmatrix} 9\\\\6\\\\\\end{bmatrix},\n",
        "      c_2 \\cdot \\begin{bmatrix} 7\\\\-4 \\\\\\end{bmatrix}\n",
        "  \\end{Bmatrix}\n",
        "$$\n"
      ],
      "metadata": {
        "id": "G3vQScChHK28"
      }
    },
    {
      "cell_type": "code",
      "source": [
        "vectP = np.array([9,6])\n",
        "vectR = np.array([7,-4])\n",
        "\n",
        "O = np.arange(-10,10,0.70)\n",
        "\n",
        "c1, c2 = np.meshgrid(O,O)\n",
        "\n",
        "vectO = vectP + vectR\n",
        "spanOx = c1*vectP[0] + c2*vectR[0]\n",
        "spanOy = c1*vectP[1] + c2*vectR[1]\n",
        "##plt.scatter(R*vectA[0],R*vectA[1])\n",
        "##plt.scatter(R*vectB[0],R*vectB[1])\n",
        "plt.scatter(spanOx,spanOy, s=5, alpha=0.75)\n",
        "\n",
        "plt.axhline(y=0, color='purple')\n",
        "plt.axvline(x=0, color='darkmagenta')\n",
        "plt.grid()\n",
        "plt.show()"
      ],
      "metadata": {
        "colab": {
          "base_uri": "https://localhost:8080/",
          "height": 265
        },
        "id": "OysOoJNhH1cy",
        "outputId": "4c167210-fa9c-42a5-b799-66a9f2e4a7f5"
      },
      "execution_count": 14,
      "outputs": [
        {
          "output_type": "display_data",
          "data": {
            "text/plain": [
              "<Figure size 432x288 with 1 Axes>"
            ],
            "image/png": "[encoded data removed]"
          },
          "metadata": {
            "needs_background": "light"
          }
        }
      ]
    },
    {
      "cell_type": "code",
      "source": [
        "vectL = np.array([6,-2])\n",
        "vectB = np.array([4,-3])\n",
        "\n",
        "R = np.arange(-9,9,0.9)\n",
        "\n",
        "c1, c2 = np.meshgrid(R,R)\n",
        "\n",
        "vectR = vectL + vectB\n",
        "spanRx = c1*vectL[0] + c2*vectB[0]\n",
        "spanRy = c1*vectL[1] + c2*vectB[1]\n",
        "##plt.scatter(R*vectA[0],R*vectA[1])\n",
        "##plt.scatter(R*vectB[0],R*vectB[1])\n",
        "plt.scatter(spanRx,spanRy, s=5, alpha=0.75)\n",
        "\n",
        "plt.axhline(y=0, color='coral')\n",
        "plt.axvline(x=0, color='orangered')\n",
        "plt.grid()\n",
        "plt.show()"
      ],
      "metadata": {
        "colab": {
          "base_uri": "https://localhost:8080/",
          "height": 265
        },
        "id": "VWQz2MP8H4ZE",
        "outputId": "99201746-5c8e-4f60-91ba-cb271a96f6e0"
      },
      "execution_count": 16,
      "outputs": [
        {
          "output_type": "display_data",
          "data": {
            "text/plain": [
              "<Figure size 432x288 with 1 Axes>"
            ],
            "image/png": "[encoded data removed]"
          },
          "metadata": {
            "needs_background": "light"
          }
        }
      ]
    },
    {
      "cell_type": "markdown",
      "source": [
        "Keep in mind that if we look of vectors as a 2-dimensional span, we may say they have a Rank of 2 or $\\mathbb{R}^2$.hey are said to be linearly dependent and have a rank of 1 or $\\mathbb{R}^1$ if the span of the linear combination of vectors looks like a line."
      ],
      "metadata": {
        "id": "bTddaupsIB1y"
      }
    },
    {
      "cell_type": "markdown",
      "source": [
        "# Activity"
      ],
      "metadata": {
        "id": "oH6UNwmIIKbz"
      }
    },
    {
      "cell_type": "markdown",
      "source": [
        "### Task 1\n",
        "Try different linear combinations using different scalar values. In your methodology discuss the different functions that you have used, the  linear equation and vector form of the linear combination, and the flowchart for declaring and displaying linear combinations. Please make sure that your flowchart has only few words and not putting the entire code as it is bad practice. In your results, display and discuss the linear combination visualization you made. You should use the cells below for displaying the equation markdows using LaTeX and your code."
      ],
      "metadata": {
        "id": "uz8Yz-VeIQCN"
      }
    },
    {
      "cell_type": "markdown",
      "source": [
        "$$\n",
        "J = 4x - 10y\n",
        "$$\n",
        "$$\n",
        "R = -2x -4y\n",
        "$$\n",
        "   \n"
      ],
      "metadata": {
        "id": "Qx-RWxSqIdjl"
      }
    },
    {
      "cell_type": "markdown",
      "source": [
        "$$\n",
        "J = \\begin{bmatrix} 4\\\\-10\\\\\\end{bmatrix} , \n",
        "R = \\begin{bmatrix} -2\\\\-4\\\\\\end{bmatrix} \n",
        "$$"
      ],
      "metadata": {
        "id": "PdgYWASDInH0"
      }
    },
    {
      "cell_type": "markdown",
      "source": [
        "$$\n",
        "j = c\\cdot \\begin{bmatrix} 4\\\\-10\\\\\\end{bmatrix}\n",
        "$$\n",
        "\n",
        "$$\n",
        "r = c\\cdot \\begin{bmatrix} -2\\\\-4\\\\\\end{bmatrix}\n",
        "$$"
      ],
      "metadata": {
        "id": "CiRkfdhBmKYR"
      }
    },
    {
      "cell_type": "code",
      "source": [
        "vectJ = np.array([4,-10])\n",
        "vectR = np.array([-2,-4])\n",
        "\n",
        "c = np.arange(-20,10,0.25)\n",
        "\n",
        "plt.scatter(c*vectJ[0],c*vectJ[1])\n",
        "\n",
        "plt.xlim(-15,15)\n",
        "plt.ylim(-15,15)\n",
        "plt.axhline(y=0, color='forestgreen')\n",
        "plt.axvline(x=0, color='limegreen')\n",
        "plt.grid()\n",
        "plt.show()"
      ],
      "metadata": {
        "id": "k1Pobh6UIJum",
        "colab": {
          "base_uri": "https://localhost:8080/",
          "height": 269
        },
        "outputId": "d2b2e519-d65d-413b-ae1e-0acff79c0a26"
      },
      "execution_count": 17,
      "outputs": [
        {
          "output_type": "display_data",
          "data": {
            "text/plain": [
              "<Figure size 432x288 with 1 Axes>"
            ],
            "image/png": "[encoded data removed]"
          },
          "metadata": {
            "needs_background": "light"
          }
        }
      ]
    },
    {
      "cell_type": "code",
      "source": [
        "vectJ = np.array([4,-10])\n",
        "vectR = np.array([-2,-4])\n",
        "\n",
        "c = np.arange(-35,25,0.5)\n",
        "\n",
        "plt.scatter(c*vectR[0],c*vectR[1])\n",
        "\n",
        "plt.xlim(-20,20)\n",
        "plt.ylim(-20,20)\n",
        "plt.axhline(y=0, color='cornflowerblue')\n",
        "plt.axvline(x=0, color='royalblue')\n",
        "plt.grid()\n",
        "plt.show()"
      ],
      "metadata": {
        "colab": {
          "base_uri": "https://localhost:8080/",
          "height": 269
        },
        "id": "T3sm_DTbn4dv",
        "outputId": "5784cc7a-caa6-4c61-dca3-c98a1b90be29"
      },
      "execution_count": 18,
      "outputs": [
        {
          "output_type": "display_data",
          "data": {
            "text/plain": [
              "<Figure size 432x288 with 1 Axes>"
            ],
            "image/png": "[encoded data removed]"
          },
          "metadata": {
            "needs_background": "light"
          }
        }
      ]
    },
    {
      "cell_type": "markdown",
      "source": [
        "$$\n",
        "K = -7x - 6y\n",
        "$$\n",
        "$$\n",
        "P = -3x + 6y\n",
        "$$\n",
        "   "
      ],
      "metadata": {
        "id": "XplhKjE7oXN8"
      }
    },
    {
      "cell_type": "markdown",
      "source": [
        "$$\n",
        "S = \\begin{Bmatrix}\n",
        "      c_1 \\cdot\\begin{bmatrix} -7\\\\-6\\\\\\end{bmatrix},\n",
        "      c_2 \\cdot \\begin{bmatrix} -3\\\\6 \\\\\\end{bmatrix}\n",
        "  \\end{Bmatrix}\n",
        "$$"
      ],
      "metadata": {
        "id": "dSbZ1b1motji"
      }
    },
    {
      "cell_type": "code",
      "source": [
        "vectK = np.array([-7,-6])\n",
        "vectP = np.array([-3,6])\n",
        "\n",
        "R = np.arange(-15,15,1)\n",
        "\n",
        "c1, c2 = np.meshgrid(R,R)\n",
        "\n",
        "vectR = vectK + vectP\n",
        "spanRx = c1*vectK[0] + c2*vectP[0]\n",
        "spanRy = c1*vectK[1] + c2*vectP[1]\n",
        "plt.scatter(spanRx,spanRy, s=5, alpha=1)\n",
        "\n",
        "plt.axhline(y=0, color='blueviolet')\n",
        "plt.axvline(x=0, color='indigo')\n",
        "plt.grid()\n",
        "plt.show()\n"
      ],
      "metadata": {
        "colab": {
          "base_uri": "https://localhost:8080/",
          "height": 265
        },
        "id": "QKHpb6L8pLkY",
        "outputId": "95ece520-962b-480b-970e-8b6219543ac7"
      },
      "execution_count": 19,
      "outputs": [
        {
          "output_type": "display_data",
          "data": {
            "text/plain": [
              "<Figure size 432x288 with 1 Axes>"
            ],
            "image/png": "[encoded data removed]"
          },
          "metadata": {
            "needs_background": "light"
          }
        }
      ]
    },
    {
      "cell_type": "markdown",
      "source": [
        "## Conclusion guide\n",
        "For your conclusion synthesize the concept and application of the laboratory. Briefly discuss what you have learn and achieved in this activity. At the end of your conclusion try to answer the question : \\\"How can you apply the concept of linear combination in engineering or real-life situations?\\\"."
      ],
      "metadata": {
        "id": "8rngVyZtIw8S"
      }
    },
    {
      "cell_type": "markdown",
      "source": [
        "Through the help of the NumPy library, we were able to perform vector field operations and use it to visualize pans using Python programming language. In this activity, the students understand how to represent linear combinations in two dimensions. With the acquired knowledge and understanding of Linear Combinations and Vectors space, the students were able to utilize it in completing task 1. By exploring and trying various combinations of numbers, the students were able to understand the different functions used in this activity.\n",
        "\n",
        "Since Linear combination is a method used to solve a system of linear equations - it is the technique of combining two algebraic equations to eliminate one of the variables. Having said that, almost every circumstance involving an unknown number, such as estimating revenue over time, calculating speed, distance, or time, calculating mileage rates, or projecting profit, may be expressed by a linear equation.\n"
      ],
      "metadata": {
        "id": "ZTdxK9fm74UG"
      }
    }
  ],
  "metadata": {
    "colab": {
      "name": "Assignment #10: Linear Combination and Vector Spaces.ipynb",
      "provenance": [],
      "collapsed_sections": [],
      "include_colab_link": true
    },
    "kernelspec": {
      "display_name": "Python 3",
      "name": "python3"
    },
    "language_info": {
      "name": "python"
    }
  },
  "nbformat": 4,
  "nbformat_minor": 0
}