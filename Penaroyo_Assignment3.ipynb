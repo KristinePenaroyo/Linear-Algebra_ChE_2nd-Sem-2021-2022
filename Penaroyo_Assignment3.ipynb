{
  "nbformat": 4,
  "nbformat_minor": 0,
  "metadata": {
    "colab": {
      "name": "Penaroyo_Assignment3.ipynb",
      "provenance": [],
      "authorship_tag": "ABX9TyNtHilAWmfqKsiHpuoz1ln+",
      "include_colab_link": true
    },
    "kernelspec": {
      "name": "python3",
      "display_name": "Python 3"
    },
    "language_info": {
      "name": "python"
    }
  },
  "cells": [
    {
      "cell_type": "markdown",
      "metadata": {
        "id": "view-in-github",
        "colab_type": "text"
      },
      "source": [
        "<a href=\"https://colab.research.google.com/github/KristinePenaroyo/Linear-Algebra_ChE_2nd-Sem-2021-2022/blob/main/Penaroyo_Assignment3.ipynb\" target=\"_parent\"><img src=\"https://colab.research.google.com/assets/colab-badge.svg\" alt=\"Open In Colab\"/></a>"
      ]
    },
    {
      "cell_type": "markdown",
      "source": [
        "# Linear Algebra for ChE\n",
        "## Laboratory 2 : Matrices"
      ],
      "metadata": {
        "id": "kzeBpK_VHUDp"
      }
    },
    {
      "cell_type": "markdown",
      "source": [
        "Now that we have a fundamental knowledge about Python, we'll try to look into greater dimensions."
      ],
      "metadata": {
        "id": "OQW24xBBHalf"
      }
    },
    {
      "cell_type": "markdown",
      "source": [
        "### Objectives\n",
        "At the end of this activity you will be able to:\n",
        "1. Utilize the use of matrix operations.\n",
        "2. Calculate the basic operations of matrices and their relation to linear equations using the Google Colab.\n",
        "3. Run the program and transcribe the matrix equation and operations using Python."
      ],
      "metadata": {
        "id": "lqFesdOFHhSQ"
      }
    },
    {
      "cell_type": "markdown",
      "source": [
        "# Discussion"
      ],
      "metadata": {
        "id": "rliPoRMdHjxf"
      }
    },
    {
      "cell_type": "code",
      "source": [
        "import numpy as np\n",
        "import matplotlib.pyplot as plt\n",
        "import scipy.linalg as la\n",
        "%matplotlib inline"
      ],
      "metadata": {
        "id": "mCwVwkrDHl76"
      },
      "execution_count": null,
      "outputs": []
    },
    {
      "cell_type": "markdown",
      "source": [
        "### Matrices"
      ],
      "metadata": {
        "id": "mwEwpzikIw_3"
      }
    },
    {
      "cell_type": "markdown",
      "source": [
        "The notation and use of matrices is probably one of the fundamentals of modern computing. Matrices are also handy representations of complex equations or multiple inter-related equations from 2-dimensional equations to even hundreds and thousands of them."
      ],
      "metadata": {
        "id": "snLxQCbRI1Rn"
      }
    },
    {
      "cell_type": "markdown",
      "source": [
        "Let's say for example you have $A$, $B$, and $C$ as system of equation.\n",
        "\n"
      ],
      "metadata": {
        "id": "tnSp2rW5I4Vq"
      }
    },
    {
      "cell_type": "markdown",
      "source": [
        "$$\n",
        "A = \\left\\{\n",
        "    \\begin{array}\\\n",
        "        t + u \\\\ \n",
        "        9t - 3u\n",
        "    \\end{array}\n",
        "\\right. \\\\\n",
        "B = \\left\\{\n",
        "    \\begin{array}\\\n",
        "        t+u+v \\\\ \n",
        "        5t -7u -v \\\\\n",
        "        -2t + 3u +6v\n",
        "    \\end{array}\n",
        "\\right. \\\\\n",
        "C = \\left\\{\n",
        "    \\begin{array}\\\n",
        "        t-9u+2v-5w \\\\\n",
        "        t-4u-6v+w \\\\\n",
        "        3t-u+2v-5w \\\\\n",
        "    \\end{array}\n",
        "\\right. \\\\\n",
        "$$"
      ],
      "metadata": {
        "id": "WMas8F2AJCMn"
      }
    },
    {
      "cell_type": "markdown",
      "source": [
        "We can see that $A$  is a system of 2 equations with 2 parameters,  $B$  is a system of 3 equations with 3 parameters, and  $C$  is a system of 4 equations with 4 parameters. We can represent them as matrices as:"
      ],
      "metadata": {
        "id": "o71YzsPeJIGS"
      }
    },
    {
      "cell_type": "markdown",
      "source": [
        "$$\n",
        "A=\\begin{bmatrix} 9 & 9 \\\\ 5 & {-10}\\end{bmatrix} \\\\\n",
        "B=\\begin{bmatrix} 9 & 9 & 9 \\\\ 3 & -6 & -9 \\\\ -6 & 4 & 6\\end{bmatrix}\\\\\n",
        "C=\\begin{bmatrix} 9 & -6 & 7 & -5 \\\\ 7 & -9 & -6 & 9 \\\\ 6 & -9 & 3 & -6\\end{bmatrix}\\\\\n",
        "$$"
      ],
      "metadata": {
        "id": "u6hkHIiIJKcI"
      }
    },
    {
      "cell_type": "markdown",
      "source": [
        "Let's assume that you already know the fundamental representation of matrices, their types, and operations. Now, let's proceed in doing it here in Python. "
      ],
      "metadata": {
        "id": "HoIi5gFrJMvg"
      }
    },
    {
      "cell_type": "markdown",
      "source": [
        "### Declaring Matrices"
      ],
      "metadata": {
        "id": "Y4KX-n3FJvNg"
      }
    },
    {
      "cell_type": "markdown",
      "source": [
        "Just like our previous laboratory activity, we'll represent system of linear equations as a matrix. The entities or numbers in matrices are called the elements of a matrix. These elements are arranged and ordered in rows and columns which form the list/array-like structure of matrices. And just like arrays, these elements are indexed according to their position with respect to their rows and columns. This can be reprsented just like the equation below. Whereas $A$ is a matrix consisting of elements denoted by $a_{i,j}$. Denoted by $i$ is the number of rows in the matrix while $j$ stands for the number of columns.<br>\n",
        "Do note that the $size$ of a matrix is $i\\times j$."
      ],
      "metadata": {
        "id": "F6XlbaBeJzJM"
      }
    },
    {
      "cell_type": "markdown",
      "source": [
        "$$A=\\begin{bmatrix}\n",
        "a_{(0,0)}&a_{(0,1)}&\\dots&a_{(0,j-1)}\\\\\n",
        "a_{(1,0)}&a_{(1,1)}&\\dots&a_{(1,j-1)}\\\\\n",
        "\\vdots&\\vdots&\\ddots&\\vdots&\\\\\n",
        "a_{(i-1,0)}&a_{(i-1,1)}&\\dots&a_{(i-1,j-1)}\n",
        "\\end{bmatrix}\n",
        "$$"
      ],
      "metadata": {
        "id": "TPryx7fjJ2vE"
      }
    },
    {
      "cell_type": "markdown",
      "source": [
        "We already gone over some of the types of matrices as vectors but we'll further discuss them in this laboratory activity. Since you already know how to describe vectors using <b>shape</b>, <b>dimensions</b> and <b>size</b> attributes, we'll use them to analyze these matrices."
      ],
      "metadata": {
        "id": "uX6LqayRJ55O"
      }
    },
    {
      "cell_type": "code",
      "source": [
        "## Since we'll keep on describing matrices. Let's make a function.\n",
        "def describe_mat(matrix):\n",
        "    print(f'Matrix:\\n{matrix}\\n\\nShape:\\t{matrix.shape}\\nRank:\\t{matrix.ndim}\\n')"
      ],
      "metadata": {
        "id": "sdzqYwE4HS8P"
      },
      "execution_count": null,
      "outputs": []
    },
    {
      "cell_type": "code",
      "source": [
        "## Declearing a 2 x 2 matrix \n",
        "K = np.array([\n",
        "    [6,4],\n",
        "    [2,8]          \n",
        "])\n",
        "describe_mat(K)"
      ],
      "metadata": {
        "colab": {
          "base_uri": "https://localhost:8080/"
        },
        "id": "2Gdu4MZoQdz7",
        "outputId": "562870f1-21e9-4a9f-8b90-6b79acc43f58"
      },
      "execution_count": null,
      "outputs": [
        {
          "output_type": "stream",
          "name": "stdout",
          "text": [
            "Matrix:\n",
            "[[6 4]\n",
            " [2 8]]\n",
            "\n",
            "Shape:\t(2, 2)\n",
            "Rank:\t2\n",
            "\n"
          ]
        }
      ]
    },
    {
      "cell_type": "code",
      "source": [
        "R = np.array([\n",
        "    [4,2,1],\n",
        "    [1,3,7]\n",
        "])\n",
        "describe_mat(R)"
      ],
      "metadata": {
        "colab": {
          "base_uri": "https://localhost:8080/"
        },
        "id": "m8Ks8Jp7Q-bS",
        "outputId": "3966914e-41b0-42b1-fb0e-f85acbce84e6"
      },
      "execution_count": null,
      "outputs": [
        {
          "output_type": "stream",
          "name": "stdout",
          "text": [
            "Matrix:\n",
            "[[4 2 1]\n",
            " [1 3 7]]\n",
            "\n",
            "Shape:\t(2, 3)\n",
            "Rank:\t2\n",
            "\n"
          ]
        }
      ]
    },
    {
      "cell_type": "code",
      "source": [
        "## Declearing a 3 x 2 matrix\n",
        "I = np.array([\n",
        "    [10, 2],\n",
        "    [5, 7],\n",
        "    [20, 19]\n",
        "])\n",
        "describe_mat(I)"
      ],
      "metadata": {
        "colab": {
          "base_uri": "https://localhost:8080/"
        },
        "id": "EkndCU8uRMbj",
        "outputId": "b35cb4fb-a81e-4fa0-9442-c6dc5b0d41a0"
      },
      "execution_count": null,
      "outputs": [
        {
          "output_type": "stream",
          "name": "stdout",
          "text": [
            "Matrix:\n",
            "[[10  2]\n",
            " [ 5  7]\n",
            " [20 19]]\n",
            "\n",
            "Shape:\t(3, 2)\n",
            "Rank:\t2\n",
            "\n"
          ]
        }
      ]
    },
    {
      "cell_type": "code",
      "source": [
        "S = np.array([13,8,3,4,87,5,2])\n",
        "describe_mat(S)"
      ],
      "metadata": {
        "colab": {
          "base_uri": "https://localhost:8080/"
        },
        "id": "ff-nLzzQRcRj",
        "outputId": "2562bd15-8a23-4746-923b-6e8995ad5ee9"
      },
      "execution_count": null,
      "outputs": [
        {
          "output_type": "stream",
          "name": "stdout",
          "text": [
            "Matrix:\n",
            "[13  8  3  4 87  5  2]\n",
            "\n",
            "Shape:\t(7,)\n",
            "Rank:\t1\n",
            "\n"
          ]
        }
      ]
    },
    {
      "cell_type": "markdown",
      "source": [
        "## Categorizing Matrices"
      ],
      "metadata": {
        "id": "cmw5eKMgR867"
      }
    },
    {
      "cell_type": "markdown",
      "source": [
        "There are many various ways to classify matrices. It could be according to their <b>shape</b>, and the other one is according to their <b>element values</b>. We'll try to explore them."
      ],
      "metadata": {
        "id": "mDAoRM5ER_O5"
      }
    },
    {
      "cell_type": "markdown",
      "source": [
        "### According to shape"
      ],
      "metadata": {
        "id": "9_a9YaB_SBWj"
      }
    },
    {
      "cell_type": "markdown",
      "source": [
        "#### Row and Column Matrices"
      ],
      "metadata": {
        "id": "mMtSYj_YSFX7"
      }
    },
    {
      "cell_type": "markdown",
      "source": [
        "Row and column matrices are common in vector and matrix computations. They can also represent row and column spaces of a bigger vector space. Row and column matrices are represented by a single column or single row. So with that being, the shape of row matrices would be $1 \\times j$ and column matrices would be $i \\times 1$."
      ],
      "metadata": {
        "id": "9_I79IpDSLO1"
      }
    },
    {
      "cell_type": "code",
      "source": [
        "## Declaring a Row Matrix\n",
        "\n",
        "row_mat_1D = np.array([\n",
        "    8, 7, 4, -6\n",
        "]) ## this is a 1-D Matrix with a shape of (4,), it's not really considered as a row matrix.\n",
        "row_mat_2D = np.array([\n",
        "    [8,7,4,-6]\n",
        "]) ## this is a 2-D Matrix with a shape of (8,4)\n",
        "describe_mat(row_mat_1D)\n",
        "describe_mat(row_mat_2D)"
      ],
      "metadata": {
        "colab": {
          "base_uri": "https://localhost:8080/"
        },
        "id": "DdspUl2MSMjr",
        "outputId": "947cbff2-8708-4b71-bbaa-fe3c296b30c2"
      },
      "execution_count": null,
      "outputs": [
        {
          "output_type": "stream",
          "name": "stdout",
          "text": [
            "Matrix:\n",
            "[ 8  7  4 -6]\n",
            "\n",
            "Shape:\t(4,)\n",
            "Rank:\t1\n",
            "\n",
            "Matrix:\n",
            "[[ 8  7  4 -6]]\n",
            "\n",
            "Shape:\t(1, 4)\n",
            "Rank:\t2\n",
            "\n"
          ]
        }
      ]
    },
    {
      "cell_type": "code",
      "source": [
        "## Declaring a Column Matrix\n",
        "\n",
        "col_mat = np.array([\n",
        "    [2],\n",
        "    [3],\n",
        "    [-78],\n",
        "    [43],\n",
        "    [7]\n",
        "]) ## this is a 2-D Matrix with a shape of (5,1)\n",
        "describe_mat(col_mat)"
      ],
      "metadata": {
        "colab": {
          "base_uri": "https://localhost:8080/"
        },
        "id": "Qwi5oBMwS3l2",
        "outputId": "f87f0a39-a029-422e-dbef-15dd82654d3b"
      },
      "execution_count": null,
      "outputs": [
        {
          "output_type": "stream",
          "name": "stdout",
          "text": [
            "Matrix:\n",
            "[[  2]\n",
            " [  3]\n",
            " [-78]\n",
            " [ 43]\n",
            " [  7]]\n",
            "\n",
            "Shape:\t(5, 1)\n",
            "Rank:\t2\n",
            "\n"
          ]
        }
      ]
    },
    {
      "cell_type": "markdown",
      "source": [
        "#### Square Matrices"
      ],
      "metadata": {
        "id": "oFdT0vnTTOh-"
      }
    },
    {
      "cell_type": "markdown",
      "source": [
        "Square matrices are matrices that have an equal number of row and column sizes. We can say that a matrix is square if  $i = j$. We can tweak our matrix descriptor function to determine square matrices."
      ],
      "metadata": {
        "id": "RiJQuhJNTTYa"
      }
    },
    {
      "cell_type": "code",
      "source": [
        "def describe_mat(matrix):\n",
        "    is_square = True if matrix.shape[0] == matrix.shape[1] else False \n",
        "    print(f'Matrix:\\n{matrix}\\n\\nShape:\\t{matrix.shape}\\nRank:\\t{matrix.ndim}\\nIs Square: {is_square}\\n')"
      ],
      "metadata": {
        "id": "eeMvgkLFTvGY"
      },
      "execution_count": null,
      "outputs": []
    },
    {
      "cell_type": "code",
      "source": [
        "square_mat = np.array([\n",
        "    [8,7,-5],\n",
        "    [2,13,9],\n",
        "    [3,4,1],\n",
        "    [6,-9,8]\n",
        "])\n",
        "\n",
        "non_square_mat = np.array([\n",
        "    [8,12,6,-19],\n",
        "    [2,-5,6,76]\n",
        "])\n",
        "describe_mat(square_mat)\n",
        "describe_mat(non_square_mat)"
      ],
      "metadata": {
        "colab": {
          "base_uri": "https://localhost:8080/"
        },
        "id": "-r5iIevTT3NV",
        "outputId": "a3cd0fb5-1c65-42a5-9730-336ad4c61684"
      },
      "execution_count": null,
      "outputs": [
        {
          "output_type": "stream",
          "name": "stdout",
          "text": [
            "Matrix:\n",
            "[[ 8  7 -5]\n",
            " [ 2 13  9]\n",
            " [ 3  4  1]\n",
            " [ 6 -9  8]]\n",
            "\n",
            "Shape:\t(4, 3)\n",
            "Rank:\t2\n",
            "Is Square: False\n",
            "\n",
            "Matrix:\n",
            "[[  8  12   6 -19]\n",
            " [  2  -5   6  76]]\n",
            "\n",
            "Shape:\t(2, 4)\n",
            "Rank:\t2\n",
            "Is Square: False\n",
            "\n"
          ]
        }
      ]
    },
    {
      "cell_type": "markdown",
      "source": [
        "### According to element values"
      ],
      "metadata": {
        "id": "B0O_W6qBUxNE"
      }
    },
    {
      "cell_type": "markdown",
      "source": [
        "#### Null Matrix"
      ],
      "metadata": {
        "id": "iMIRjFQsUz7q"
      }
    },
    {
      "cell_type": "markdown",
      "source": [
        "A Null Matrix is a matrix all of whose entities are zero. It is always a subspace of any vector or matrix."
      ],
      "metadata": {
        "id": "SKgjv86wU1yq"
      }
    },
    {
      "cell_type": "code",
      "source": [
        "def describe_mat(matrix):\n",
        "    if matrix.size > 0:\n",
        "        is_square = True if matrix.shape[0] == matrix.shape[1] else False \n",
        "        print(f'Matrix:\\n{matrix}\\n\\nShape:\\t{matrix.shape}\\nRank:\\t{matrix.ndim}\\nIs Square: {is_square}\\n')\n",
        "    else:\n",
        "        print('Matrix is Null')"
      ],
      "metadata": {
        "id": "kISH61sQU3l6"
      },
      "execution_count": null,
      "outputs": []
    },
    {
      "cell_type": "code",
      "source": [
        "null_mat = np.array([])\n",
        "describe_mat(null_mat)"
      ],
      "metadata": {
        "colab": {
          "base_uri": "https://localhost:8080/"
        },
        "id": "QqrJImpQU6mw",
        "outputId": "4d0c0011-04ba-42f3-abee-423c4a09e9c5"
      },
      "execution_count": null,
      "outputs": [
        {
          "output_type": "stream",
          "name": "stdout",
          "text": [
            "Matrix is Null\n"
          ]
        }
      ]
    },
    {
      "cell_type": "markdown",
      "source": [
        "#### Zero Matrix"
      ],
      "metadata": {
        "id": "pXz4OvgaU_pP"
      }
    },
    {
      "cell_type": "markdown",
      "source": [
        "A zero matrix can be any rectangular matrix but with all elements having a value of 0."
      ],
      "metadata": {
        "id": "zMyQU9C-VB6b"
      }
    },
    {
      "cell_type": "code",
      "metadata": {
        "id": "4OTDdIJpIfrT",
        "colab": {
          "base_uri": "https://localhost:8080/"
        },
        "outputId": "66c737c3-6de8-4df1-fb5c-4c7a924ca4ee"
      },
      "source": [
        "zero_mat_row = np.zeros((4,9))\n",
        "zero_mat_sqr = np.zeros((9,9))\n",
        "zero_mat_rct = np.zeros((6,9))\n",
        "\n",
        "print(f'Zero Row Matrix: \\n{zero_mat_row}')\n",
        "print(f'Zero Square Matrix: \\n{zero_mat_sqr}')\n",
        "print(f'Zero Rectangular Matrix: \\n{zero_mat_rct}')"
      ],
      "execution_count": null,
      "outputs": [
        {
          "output_type": "stream",
          "name": "stdout",
          "text": [
            "Zero Row Matrix: \n",
            "[[0. 0. 0. 0. 0. 0. 0. 0. 0.]\n",
            " [0. 0. 0. 0. 0. 0. 0. 0. 0.]\n",
            " [0. 0. 0. 0. 0. 0. 0. 0. 0.]\n",
            " [0. 0. 0. 0. 0. 0. 0. 0. 0.]]\n",
            "Zero Square Matrix: \n",
            "[[0. 0. 0. 0. 0. 0. 0. 0. 0.]\n",
            " [0. 0. 0. 0. 0. 0. 0. 0. 0.]\n",
            " [0. 0. 0. 0. 0. 0. 0. 0. 0.]\n",
            " [0. 0. 0. 0. 0. 0. 0. 0. 0.]\n",
            " [0. 0. 0. 0. 0. 0. 0. 0. 0.]\n",
            " [0. 0. 0. 0. 0. 0. 0. 0. 0.]\n",
            " [0. 0. 0. 0. 0. 0. 0. 0. 0.]\n",
            " [0. 0. 0. 0. 0. 0. 0. 0. 0.]\n",
            " [0. 0. 0. 0. 0. 0. 0. 0. 0.]]\n",
            "Zero Rectangular Matrix: \n",
            "[[0. 0. 0. 0. 0. 0. 0. 0. 0.]\n",
            " [0. 0. 0. 0. 0. 0. 0. 0. 0.]\n",
            " [0. 0. 0. 0. 0. 0. 0. 0. 0.]\n",
            " [0. 0. 0. 0. 0. 0. 0. 0. 0.]\n",
            " [0. 0. 0. 0. 0. 0. 0. 0. 0.]\n",
            " [0. 0. 0. 0. 0. 0. 0. 0. 0.]]\n"
          ]
        }
      ]
    },
    {
      "cell_type": "markdown",
      "source": [
        "#### Ones Matrix"
      ],
      "metadata": {
        "id": "MW9PuYx5VvQI"
      }
    },
    {
      "cell_type": "markdown",
      "source": [
        "A ones matrix, just like the zero matrix, can be any rectangular matrix but all of its elements are 1s instead of 0s."
      ],
      "metadata": {
        "id": "Jgsb9Kx6Vv0q"
      }
    },
    {
      "cell_type": "code",
      "source": [
        "ones_mat_row = np.ones((6,4))\n",
        "ones_mat_sqr = np.ones((4,4))\n",
        "ones_mat_rct = np.ones((9,4))\n",
        "\n",
        "print(f'Ones Row Matrix: \\n{ones_mat_row}')\n",
        "print(f'Ones Square Matrix: \\n{ones_mat_sqr}')\n",
        "print(f'Ones Rectangular Matrix: \\n{ones_mat_rct}')"
      ],
      "metadata": {
        "id": "gfTFRYrKV41g",
        "colab": {
          "base_uri": "https://localhost:8080/"
        },
        "outputId": "c9e97f01-6921-4302-9a17-303d553b1a36"
      },
      "execution_count": null,
      "outputs": [
        {
          "output_type": "stream",
          "name": "stdout",
          "text": [
            "Ones Row Matrix: \n",
            "[[1. 1. 1. 1.]\n",
            " [1. 1. 1. 1.]\n",
            " [1. 1. 1. 1.]\n",
            " [1. 1. 1. 1.]\n",
            " [1. 1. 1. 1.]\n",
            " [1. 1. 1. 1.]]\n",
            "Ones Square Matrix: \n",
            "[[1. 1. 1. 1.]\n",
            " [1. 1. 1. 1.]\n",
            " [1. 1. 1. 1.]\n",
            " [1. 1. 1. 1.]]\n",
            "Ones Rectangular Matrix: \n",
            "[[1. 1. 1. 1.]\n",
            " [1. 1. 1. 1.]\n",
            " [1. 1. 1. 1.]\n",
            " [1. 1. 1. 1.]\n",
            " [1. 1. 1. 1.]\n",
            " [1. 1. 1. 1.]\n",
            " [1. 1. 1. 1.]\n",
            " [1. 1. 1. 1.]\n",
            " [1. 1. 1. 1.]]\n"
          ]
        }
      ]
    },
    {
      "cell_type": "markdown",
      "source": [
        "#### Diagonal Matrix"
      ],
      "metadata": {
        "id": "-067XTgEWGJ9"
      }
    },
    {
      "cell_type": "markdown",
      "source": [
        "A diagonal matrix is a square matrix where all the elements are zero except those on the diagonal of the matrix. "
      ],
      "metadata": {
        "id": "snZmEZ-0WGsn"
      }
    },
    {
      "cell_type": "code",
      "source": [
        "np.array([\n",
        "    [8,0,0],\n",
        "    [0,9,0],\n",
        "    [0,0,10]\n",
        "])\n",
        "# a[1,1], a[2,2], a[3,3], ... a[n-1,n-1]"
      ],
      "metadata": {
        "id": "lqByqpmBWI9o",
        "colab": {
          "base_uri": "https://localhost:8080/"
        },
        "outputId": "5c48cedf-1444-4918-e14f-e0bdc769ced6"
      },
      "execution_count": null,
      "outputs": [
        {
          "output_type": "execute_result",
          "data": {
            "text/plain": [
              "array([[ 8,  0,  0],\n",
              "       [ 0,  9,  0],\n",
              "       [ 0,  0, 10]])"
            ]
          },
          "metadata": {},
          "execution_count": 21
        }
      ]
    },
    {
      "cell_type": "code",
      "source": [
        "d = np.diag([24,38,47,88,95])\n",
        "#d.shape[0] == d.shape[1]\n",
        "d"
      ],
      "metadata": {
        "id": "eQSYJsBgYHs8",
        "colab": {
          "base_uri": "https://localhost:8080/"
        },
        "outputId": "46704b5e-8a44-4bb0-8e44-a096236f5c60"
      },
      "execution_count": null,
      "outputs": [
        {
          "output_type": "execute_result",
          "data": {
            "text/plain": [
              "array([[24,  0,  0,  0,  0],\n",
              "       [ 0, 38,  0,  0,  0],\n",
              "       [ 0,  0, 47,  0,  0],\n",
              "       [ 0,  0,  0, 88,  0],\n",
              "       [ 0,  0,  0,  0, 95]])"
            ]
          },
          "metadata": {},
          "execution_count": 22
        }
      ]
    },
    {
      "cell_type": "markdown",
      "source": [
        "#### Identity Matrix"
      ],
      "metadata": {
        "id": "MbdLYVoqYe0H"
      }
    },
    {
      "cell_type": "markdown",
      "source": [
        "An identity matrix is a special kind of diagonal matrix in which the values at the diagonal are ones."
      ],
      "metadata": {
        "id": "uWCecbA6Yg9w"
      }
    },
    {
      "cell_type": "code",
      "source": [
        "np.eye(20)"
      ],
      "metadata": {
        "id": "4wCCPQ0TYhbd",
        "colab": {
          "base_uri": "https://localhost:8080/"
        },
        "outputId": "fdfe500c-8d9e-414f-af88-d0fc66739ac3"
      },
      "execution_count": null,
      "outputs": [
        {
          "output_type": "execute_result",
          "data": {
            "text/plain": [
              "array([[1., 0., 0., 0., 0., 0., 0., 0., 0., 0., 0., 0., 0., 0., 0., 0.,\n",
              "        0., 0., 0., 0.],\n",
              "       [0., 1., 0., 0., 0., 0., 0., 0., 0., 0., 0., 0., 0., 0., 0., 0.,\n",
              "        0., 0., 0., 0.],\n",
              "       [0., 0., 1., 0., 0., 0., 0., 0., 0., 0., 0., 0., 0., 0., 0., 0.,\n",
              "        0., 0., 0., 0.],\n",
              "       [0., 0., 0., 1., 0., 0., 0., 0., 0., 0., 0., 0., 0., 0., 0., 0.,\n",
              "        0., 0., 0., 0.],\n",
              "       [0., 0., 0., 0., 1., 0., 0., 0., 0., 0., 0., 0., 0., 0., 0., 0.,\n",
              "        0., 0., 0., 0.],\n",
              "       [0., 0., 0., 0., 0., 1., 0., 0., 0., 0., 0., 0., 0., 0., 0., 0.,\n",
              "        0., 0., 0., 0.],\n",
              "       [0., 0., 0., 0., 0., 0., 1., 0., 0., 0., 0., 0., 0., 0., 0., 0.,\n",
              "        0., 0., 0., 0.],\n",
              "       [0., 0., 0., 0., 0., 0., 0., 1., 0., 0., 0., 0., 0., 0., 0., 0.,\n",
              "        0., 0., 0., 0.],\n",
              "       [0., 0., 0., 0., 0., 0., 0., 0., 1., 0., 0., 0., 0., 0., 0., 0.,\n",
              "        0., 0., 0., 0.],\n",
              "       [0., 0., 0., 0., 0., 0., 0., 0., 0., 1., 0., 0., 0., 0., 0., 0.,\n",
              "        0., 0., 0., 0.],\n",
              "       [0., 0., 0., 0., 0., 0., 0., 0., 0., 0., 1., 0., 0., 0., 0., 0.,\n",
              "        0., 0., 0., 0.],\n",
              "       [0., 0., 0., 0., 0., 0., 0., 0., 0., 0., 0., 1., 0., 0., 0., 0.,\n",
              "        0., 0., 0., 0.],\n",
              "       [0., 0., 0., 0., 0., 0., 0., 0., 0., 0., 0., 0., 1., 0., 0., 0.,\n",
              "        0., 0., 0., 0.],\n",
              "       [0., 0., 0., 0., 0., 0., 0., 0., 0., 0., 0., 0., 0., 1., 0., 0.,\n",
              "        0., 0., 0., 0.],\n",
              "       [0., 0., 0., 0., 0., 0., 0., 0., 0., 0., 0., 0., 0., 0., 1., 0.,\n",
              "        0., 0., 0., 0.],\n",
              "       [0., 0., 0., 0., 0., 0., 0., 0., 0., 0., 0., 0., 0., 0., 0., 1.,\n",
              "        0., 0., 0., 0.],\n",
              "       [0., 0., 0., 0., 0., 0., 0., 0., 0., 0., 0., 0., 0., 0., 0., 0.,\n",
              "        1., 0., 0., 0.],\n",
              "       [0., 0., 0., 0., 0., 0., 0., 0., 0., 0., 0., 0., 0., 0., 0., 0.,\n",
              "        0., 1., 0., 0.],\n",
              "       [0., 0., 0., 0., 0., 0., 0., 0., 0., 0., 0., 0., 0., 0., 0., 0.,\n",
              "        0., 0., 1., 0.],\n",
              "       [0., 0., 0., 0., 0., 0., 0., 0., 0., 0., 0., 0., 0., 0., 0., 0.,\n",
              "        0., 0., 0., 1.]])"
            ]
          },
          "metadata": {},
          "execution_count": 23
        }
      ]
    },
    {
      "cell_type": "code",
      "source": [
        "np.identity(9)"
      ],
      "metadata": {
        "id": "Lm4c-T7eYnuI",
        "colab": {
          "base_uri": "https://localhost:8080/"
        },
        "outputId": "29497a25-9bd2-4f61-c513-bddcd36d4417"
      },
      "execution_count": null,
      "outputs": [
        {
          "output_type": "execute_result",
          "data": {
            "text/plain": [
              "array([[1., 0., 0., 0., 0., 0., 0., 0., 0.],\n",
              "       [0., 1., 0., 0., 0., 0., 0., 0., 0.],\n",
              "       [0., 0., 1., 0., 0., 0., 0., 0., 0.],\n",
              "       [0., 0., 0., 1., 0., 0., 0., 0., 0.],\n",
              "       [0., 0., 0., 0., 1., 0., 0., 0., 0.],\n",
              "       [0., 0., 0., 0., 0., 1., 0., 0., 0.],\n",
              "       [0., 0., 0., 0., 0., 0., 1., 0., 0.],\n",
              "       [0., 0., 0., 0., 0., 0., 0., 1., 0.],\n",
              "       [0., 0., 0., 0., 0., 0., 0., 0., 1.]])"
            ]
          },
          "metadata": {},
          "execution_count": 24
        }
      ]
    },
    {
      "cell_type": "markdown",
      "source": [
        "#### Upper Triangular Matrix"
      ],
      "metadata": {
        "id": "P6iOWRRJYvJ5"
      }
    },
    {
      "cell_type": "markdown",
      "source": [
        "An upper triangular matrix is a matrix that has no values below the diagonal.\n"
      ],
      "metadata": {
        "id": "kPZAZ8h-YykJ"
      }
    },
    {
      "cell_type": "code",
      "source": [
        "np.array([\n",
        "    [8,-72,12],\n",
        "    [6,9,20],\n",
        "    [-5,4,2]\n",
        "])"
      ],
      "metadata": {
        "id": "xVZCW3DjYvvn",
        "colab": {
          "base_uri": "https://localhost:8080/"
        },
        "outputId": "8a43f83c-e199-4fce-b959-772537cecf5c"
      },
      "execution_count": null,
      "outputs": [
        {
          "output_type": "execute_result",
          "data": {
            "text/plain": [
              "array([[  8, -72,  12],\n",
              "       [  6,   9,  20],\n",
              "       [ -5,   4,   2]])"
            ]
          },
          "metadata": {},
          "execution_count": 25
        }
      ]
    },
    {
      "cell_type": "code",
      "source": [
        "V = np.array([\n",
        "              [9, -10, 5, 27, -2],\n",
        "              [9, -10, 5, 27, -2],\n",
        "              [9, -10, 5, 27, -2],\n",
        "              [9, -10, 5, 27, -2],\n",
        "              [9, -10, 5, 27, -2],\n",
        "])\n",
        "np.triu(V)\n"
      ],
      "metadata": {
        "id": "4iwzoPBWZO36",
        "colab": {
          "base_uri": "https://localhost:8080/"
        },
        "outputId": "a85ea764-808c-4749-e492-854521702cca"
      },
      "execution_count": null,
      "outputs": [
        {
          "output_type": "execute_result",
          "data": {
            "text/plain": [
              "array([[  9, -10,   5,  27,  -2],\n",
              "       [  0, -10,   5,  27,  -2],\n",
              "       [  0,   0,   5,  27,  -2],\n",
              "       [  0,   0,   0,  27,  -2],\n",
              "       [  0,   0,   0,   0,  -2]])"
            ]
          },
          "metadata": {},
          "execution_count": 26
        }
      ]
    },
    {
      "cell_type": "markdown",
      "source": [
        "#### Lower Triangular Matrix"
      ],
      "metadata": {
        "id": "dOs72fkGZFsz"
      }
    },
    {
      "cell_type": "markdown",
      "source": [
        "A lower triangular matrix is a matrix that has no values above the diagonal."
      ],
      "metadata": {
        "id": "5j8kwxElZ89i"
      }
    },
    {
      "cell_type": "code",
      "source": [
        "np.tril(V)\n"
      ],
      "metadata": {
        "id": "X5gZsi97aEMT",
        "colab": {
          "base_uri": "https://localhost:8080/"
        },
        "outputId": "d73b8f37-8c06-4efc-8dc8-9cfea44191a9"
      },
      "execution_count": null,
      "outputs": [
        {
          "output_type": "execute_result",
          "data": {
            "text/plain": [
              "array([[  9,   0,   0,   0,   0],\n",
              "       [  9, -10,   0,   0,   0],\n",
              "       [  9, -10,   5,   0,   0],\n",
              "       [  9, -10,   5,  27,   0],\n",
              "       [  9, -10,   5,  27,  -2]])"
            ]
          },
          "metadata": {},
          "execution_count": 27
        }
      ]
    },
    {
      "cell_type": "code",
      "source": [
        "np.array([\n",
        "          [3,0,0],\n",
        "          [9,13,0],\n",
        "          [1,17,23]\n",
        "])"
      ],
      "metadata": {
        "id": "mfFD5QTKaOOj",
        "colab": {
          "base_uri": "https://localhost:8080/"
        },
        "outputId": "d94c0d86-b7ac-47df-bd05-052fe303874c"
      },
      "execution_count": null,
      "outputs": [
        {
          "output_type": "execute_result",
          "data": {
            "text/plain": [
              "array([[ 3,  0,  0],\n",
              "       [ 9, 13,  0],\n",
              "       [ 1, 17, 23]])"
            ]
          },
          "metadata": {},
          "execution_count": 28
        }
      ]
    },
    {
      "cell_type": "markdown",
      "source": [
        "##Practice"
      ],
      "metadata": {
        "id": "qYNZp_1xajVC"
      }
    },
    {
      "cell_type": "markdown",
      "source": [
        "1. Given the linear combination below, try to create a corresponding matrix representing it."
      ],
      "metadata": {
        "id": "KotooZIWalpM"
      }
    },
    {
      "cell_type": "markdown",
      "source": [
        ":$$\\theta = 5x + 3y - z$$\n"
      ],
      "metadata": {
        "id": "7s2qrEvIascO"
      }
    },
    {
      "cell_type": "markdown",
      "source": [
        "$$\\theta =\\begin{bmatrix} 5 & 3 & -1\\end{bmatrix}\\\\ $$"
      ],
      "metadata": {
        "id": "2hy82r5pazbL"
      }
    },
    {
      "cell_type": "markdown",
      "source": [
        "2. Given the system of linear combinations below, try to encode it as a matrix. Also describe the matrix.\n"
      ],
      "metadata": {
        "id": "bzeYpKRfa2hP"
      }
    },
    {
      "cell_type": "markdown",
      "source": [
        "$$\n",
        "A = \\left\\{\\begin{array}\n",
        "5x_1 + 2x_2 +x_3\\\\\n",
        "4x_2 - x_3\\\\\n",
        "10x_3\n",
        "\\end{array}\\right.\n",
        "$$\n"
      ],
      "metadata": {
        "id": "Et0xoL0Ma7qx"
      }
    },
    {
      "cell_type": "code",
      "source": [
        "A = np.array([\n",
        "    [1, 2, 1],\n",
        "    [0, 4, -1],\n",
        "    [0, 0, 10]\n",
        "])\n",
        "A"
      ],
      "metadata": {
        "colab": {
          "base_uri": "https://localhost:8080/"
        },
        "id": "mj38QfaKa-tr",
        "outputId": "1417c1f4-bac6-43db-cb61-4d628f36fe61"
      },
      "execution_count": null,
      "outputs": [
        {
          "output_type": "execute_result",
          "data": {
            "text/plain": [
              "array([[ 1,  2,  1],\n",
              "       [ 0,  4, -1],\n",
              "       [ 0,  0, 10]])"
            ]
          },
          "metadata": {},
          "execution_count": 29
        }
      ]
    },
    {
      "cell_type": "markdown",
      "source": [
        "3. Given the matrix below, express it as a linear combination in a markdown."
      ],
      "metadata": {
        "id": "dmCLxBn7bF6_"
      }
    },
    {
      "cell_type": "code",
      "source": [
        "G = np.array([ \n",
        "    [1,7,8], \n",
        "    [2,2,2], \n",
        "    [4,6,7] \n",
        "])"
      ],
      "metadata": {
        "id": "B0jEZdwvbZy-"
      },
      "execution_count": null,
      "outputs": []
    },
    {
      "cell_type": "markdown",
      "source": [
        "$$\n",
        "G=\\begin{bmatrix} 1 & 7 & 8 \\\\ 2 & 2 & 2 \\\\ 4 & 6 & 7\\end{bmatrix}\\\\\n",
        "$$"
      ],
      "metadata": {
        "id": "FsMi-ZozbfVT"
      }
    },
    {
      "cell_type": "markdown",
      "source": [
        "4. Given the matrix below, display the output as a LaTeX markdown also express it as a system of linear combinations.\n"
      ],
      "metadata": {
        "id": "eoQTVFsSbl3c"
      }
    },
    {
      "cell_type": "code",
      "source": [
        "H = np.tril(G)\n",
        "H"
      ],
      "metadata": {
        "colab": {
          "base_uri": "https://localhost:8080/"
        },
        "id": "HabzxNVJbp7V",
        "outputId": "87b62582-03b8-4077-9ab0-2b8efab8c94d"
      },
      "execution_count": null,
      "outputs": [
        {
          "output_type": "execute_result",
          "data": {
            "text/plain": [
              "array([[1, 0, 0],\n",
              "       [2, 2, 0],\n",
              "       [4, 6, 7]])"
            ]
          },
          "metadata": {},
          "execution_count": 31
        }
      ]
    },
    {
      "cell_type": "markdown",
      "source": [
        "$$\n",
        "H = \\begin{bmatrix} \n",
        "1 & 0 & 0 \\\\\n",
        "2 & 2 & 0\\\\\n",
        "4 & 6 & 7 \\\\\n",
        "\\end{bmatrix}\n",
        "$$\n",
        "\n",
        "$$\n",
        "H = \\left\\{\\begin{array}\n",
        "1x \\\\\n",
        "2x + 2y\\\\\n",
        "4x + 6y + 7z\n",
        "\\end{array}\\right.\n",
        "$$"
      ],
      "metadata": {
        "id": "9-_MPh8Tb3UJ"
      }
    },
    {
      "cell_type": "markdown",
      "source": [
        "##Matrix Algebra"
      ],
      "metadata": {
        "id": "P3pzgGnTb-qA"
      }
    },
    {
      "cell_type": "markdown",
      "source": [
        "###Addition"
      ],
      "metadata": {
        "id": "DaTFx7LpcBBL"
      }
    },
    {
      "cell_type": "code",
      "source": [
        "A = np.array([\n",
        "    [9,4],\n",
        "    [7,10],\n",
        "    [-2,6]\n",
        "])\n",
        "B = np.array([\n",
        "    [5,17],\n",
        "    [-4,5],\n",
        "    [3,11]\n",
        "])\n",
        "A+B"
      ],
      "metadata": {
        "colab": {
          "base_uri": "https://localhost:8080/"
        },
        "id": "WrL6moJKcBMy",
        "outputId": "5048b29b-b6a4-4120-de7e-d9d70ad36622"
      },
      "execution_count": null,
      "outputs": [
        {
          "output_type": "execute_result",
          "data": {
            "text/plain": [
              "array([[14, 21],\n",
              "       [ 3, 15],\n",
              "       [ 1, 17]])"
            ]
          },
          "metadata": {},
          "execution_count": 81
        }
      ]
    },
    {
      "cell_type": "code",
      "source": [
        "3+B ##Broadcasting\n",
        "# 2*np.ones(A.shape)+A"
      ],
      "metadata": {
        "colab": {
          "base_uri": "https://localhost:8080/"
        },
        "id": "rLLRN3NicoaP",
        "outputId": "c019f0b0-be30-466b-f220-66eead343523"
      },
      "execution_count": null,
      "outputs": [
        {
          "output_type": "execute_result",
          "data": {
            "text/plain": [
              "array([[ 8, 20],\n",
              "       [-1,  8],\n",
              "       [ 6, 14]])"
            ]
          },
          "metadata": {},
          "execution_count": 70
        }
      ]
    },
    {
      "cell_type": "markdown",
      "source": [
        "### Subtraction"
      ],
      "metadata": {
        "id": "NNVrmeHCcy6v"
      }
    },
    {
      "cell_type": "code",
      "source": [
        "A-B"
      ],
      "metadata": {
        "colab": {
          "base_uri": "https://localhost:8080/"
        },
        "id": "fBvn9ix8c2uJ",
        "outputId": "7a768147-33c9-4f32-d810-2490d23fedb3"
      },
      "execution_count": null,
      "outputs": [
        {
          "output_type": "execute_result",
          "data": {
            "text/plain": [
              "array([[  4, -13],\n",
              "       [ 11,   5],\n",
              "       [ -5,  -5]])"
            ]
          },
          "metadata": {},
          "execution_count": 71
        }
      ]
    },
    {
      "cell_type": "code",
      "source": [
        "5-B == 5*np.ones(B.shape)-B"
      ],
      "metadata": {
        "colab": {
          "base_uri": "https://localhost:8080/"
        },
        "id": "5APMAcKBc5ZB",
        "outputId": "0b01e52d-e6c4-4439-cf4d-d6f7b342b64b"
      },
      "execution_count": null,
      "outputs": [
        {
          "output_type": "execute_result",
          "data": {
            "text/plain": [
              "array([[ True,  True],\n",
              "       [ True,  True],\n",
              "       [ True,  True]])"
            ]
          },
          "metadata": {},
          "execution_count": 75
        }
      ]
    },
    {
      "cell_type": "markdown",
      "source": [
        "###Element-wise Multiplication\n"
      ],
      "metadata": {
        "id": "vORM8EG_dIdZ"
      }
    },
    {
      "cell_type": "code",
      "source": [
        "A*B"
      ],
      "metadata": {
        "colab": {
          "base_uri": "https://localhost:8080/"
        },
        "id": "hue1c9tDdKwB",
        "outputId": "5a5a574f-e7ca-4a8f-88f4-8ce2f434e291"
      },
      "execution_count": null,
      "outputs": [
        {
          "output_type": "execute_result",
          "data": {
            "text/plain": [
              "array([[ 45,  68],\n",
              "       [-28,  50],\n",
              "       [ -6,  66]])"
            ]
          },
          "metadata": {},
          "execution_count": 76
        }
      ]
    },
    {
      "cell_type": "code",
      "source": [
        "4*A"
      ],
      "metadata": {
        "colab": {
          "base_uri": "https://localhost:8080/"
        },
        "id": "AqKnhn68dNvI",
        "outputId": "16b84392-7230-4fe4-f43c-54ed135a6fa0"
      },
      "execution_count": null,
      "outputs": [
        {
          "output_type": "execute_result",
          "data": {
            "text/plain": [
              "array([[36, 16],\n",
              "       [28, 40],\n",
              "       [-8, 24]])"
            ]
          },
          "metadata": {},
          "execution_count": 78
        }
      ]
    },
    {
      "cell_type": "code",
      "source": [
        "A @ B"
      ],
      "metadata": {
        "colab": {
          "base_uri": "https://localhost:8080/",
          "height": 165
        },
        "id": "mC-gL-cYdkuW",
        "outputId": "c1adf9e8-fb95-4bf0-f459-8998e5d5bbe8"
      },
      "execution_count": null,
      "outputs": [
        {
          "output_type": "error",
          "ename": "ValueError",
          "evalue": "ignored",
          "traceback": [
            "\u001b[0;31m---------------------------------------------------------------------------\u001b[0m",
            "\u001b[0;31mValueError\u001b[0m                                Traceback (most recent call last)",
            "\u001b[0;32m<ipython-input-83-455d622f3b50>\u001b[0m in \u001b[0;36m<module>\u001b[0;34m()\u001b[0m\n\u001b[0;32m----> 1\u001b[0;31m \u001b[0mA\u001b[0m \u001b[0;34m@\u001b[0m \u001b[0mB\u001b[0m\u001b[0;34m\u001b[0m\u001b[0;34m\u001b[0m\u001b[0m\n\u001b[0m",
            "\u001b[0;31mValueError\u001b[0m: matmul: Input operand 1 has a mismatch in its core dimension 0, with gufunc signature (n?,k),(k,m?)->(n?,m?) (size 3 is different from 2)"
          ]
        }
      ]
    },
    {
      "cell_type": "code",
      "source": [
        "alpha=5**-5\n",
        "A/(alpha+B)"
      ],
      "metadata": {
        "colab": {
          "base_uri": "https://localhost:8080/"
        },
        "id": "QdVBRNf2d0Is",
        "outputId": "835842da-e7c9-4f00-9ceb-afc44a8f6c4d"
      },
      "execution_count": null,
      "outputs": [
        {
          "output_type": "execute_result",
          "data": {
            "text/plain": [
              "array([[ 1.79988481,  0.23528969],\n",
              "       [-1.75014001,  1.99987201],\n",
              "       [-0.66659556,  0.54543868]])"
            ]
          },
          "metadata": {},
          "execution_count": 85
        }
      ]
    },
    {
      "cell_type": "code",
      "source": [
        "np.add(A,B)"
      ],
      "metadata": {
        "colab": {
          "base_uri": "https://localhost:8080/"
        },
        "id": "kQNGo2C-eGRG",
        "outputId": "8324dd95-6888-4f87-b303-4d701f3353ee"
      },
      "execution_count": null,
      "outputs": [
        {
          "output_type": "execute_result",
          "data": {
            "text/plain": [
              "array([[14, 21],\n",
              "       [ 3, 15],\n",
              "       [ 1, 17]])"
            ]
          },
          "metadata": {},
          "execution_count": 86
        }
      ]
    },
    {
      "cell_type": "markdown",
      "source": [
        "##**Activity**"
      ],
      "metadata": {
        "id": "QZFYWcJbeNdx"
      }
    },
    {
      "cell_type": "markdown",
      "source": [
        "### Task 1"
      ],
      "metadata": {
        "id": "kJF9JBfJfYkb"
      }
    },
    {
      "cell_type": "markdown",
      "source": [
        "Create a function named `mat_desc()` that througouhly describes a matrix, it should: <br>\n",
        "1. Displays the shape, size, and rank of the matrix. <br>\n",
        "2. Displays whether the matrix is square or non-square. <br>\n",
        "3. Displays whether the matrix is an empty matrix. <br>\n",
        "4. Displays if the matrix is an identity, ones, or zeros matrix <br>\n",
        "   \n",
        "Use 5 sample matrices in which their shapes are not lower than $(3,3)$.\n",
        "In your methodology, create a flowchart discuss the functions and methods you have done. Present your results in the results section showing the description of each matrix you have declared."
      ],
      "metadata": {
        "id": "5MtwV3ESeT8-"
      }
    },
    {
      "cell_type": "code",
      "source": [
        "#Function Area\n",
        "def mat_desc(matrix):\n",
        "        print(f'Matrix:\\n{matrix}\\n\\nShape:\\t{matrix.shape}\\nSize:\\t{matrix.size}\\nRank:\\t{matrix.ndim}\\n')\n",
        "        square = False\n",
        "        if (matrix.shape[0] == matrix.shape[1]):\n",
        "          square = True\n",
        "          print('The matrix is square')   \n",
        "        else:\n",
        "          print('The matrix is non-square') \n",
        "        if (matrix.shape[0] == 0 and matrix.shape[1] == 0):\n",
        "          print('The matrix is empty')\n",
        "        else: \n",
        "          print('The matrix is not empty')  \n",
        "        identity = np.identity(matrix.shape[0])\n",
        "        if (square and (identity == matrix).all()):\n",
        "          print('Identity Matrix\\n\\n')\n",
        "        else:\n",
        "          print()\n",
        "        one = np.ones((matrix.shape[0], matrix.shape[1]))\n",
        "        if ((one == matrix).all()):\n",
        "          print(end = 'Ones Matrix\\n\\n')\n",
        "        else:\n",
        "          print('')\n",
        "        zero = np.zeros((matrix.shape[0], matrix.shape[1])) \n",
        "        if ((zero == matrix).all()):\n",
        "          print('Zeros Matrix \\n\\n')\n",
        "        else:\n",
        "          print('')"
      ],
      "metadata": {
        "id": "a7ZT-XSifdNS"
      },
      "execution_count": null,
      "outputs": []
    },
    {
      "cell_type": "code",
      "source": [
        "## Matrix declarations\n",
        "A = np.array([\n",
        "    [1, 0, 0, 0, 0],\n",
        "    [0, 1, 0, 0, 0],\n",
        "    [0, 0, 1, 0, 0],\n",
        "    [0, 0, 0, 1, 0],\n",
        "    [0, 0, 0, 0, 1],     \n",
        "])\n",
        "B = np.array([\n",
        "    [1, 1, 1],\n",
        "    [1, 1, 1],\n",
        "    [1, 1, 1],    \n",
        "])\n",
        "C = np.zeros((4,6))\n",
        "D = np.identity((6))\n",
        "E = np.ones((4,5))"
      ],
      "metadata": {
        "id": "ythM1UxPfevu"
      },
      "execution_count": null,
      "outputs": []
    },
    {
      "cell_type": "markdown",
      "source": [
        "## Test Areas"
      ],
      "metadata": {
        "id": "-mXkU_UqSf8u"
      }
    },
    {
      "cell_type": "code",
      "source": [
        "mat_desc(A)"
      ],
      "metadata": {
        "id": "jYkhBwCfff1E",
        "colab": {
          "base_uri": "https://localhost:8080/"
        },
        "outputId": "baba6bd5-e460-4271-f770-83503cb3c392"
      },
      "execution_count": null,
      "outputs": [
        {
          "output_type": "stream",
          "name": "stdout",
          "text": [
            "Matrix:\n",
            "[[1 0 0 0 0]\n",
            " [0 1 0 0 0]\n",
            " [0 0 1 0 0]\n",
            " [0 0 0 1 0]\n",
            " [0 0 0 0 1]]\n",
            "\n",
            "Shape:\t(5, 5)\n",
            "Size:\t25\n",
            "Rank:\t2\n",
            "\n",
            "The matrix is square\n",
            "The matrix is not empty\n",
            "Identity Matrix\n",
            "\n",
            "\n",
            "\n",
            "\n"
          ]
        }
      ]
    },
    {
      "cell_type": "code",
      "source": [
        "mat_desc(B)"
      ],
      "metadata": {
        "colab": {
          "base_uri": "https://localhost:8080/"
        },
        "id": "y5wx_KrsSoHw",
        "outputId": "959a3cb5-32be-4965-893c-177f7f7acf2d"
      },
      "execution_count": null,
      "outputs": [
        {
          "output_type": "stream",
          "name": "stdout",
          "text": [
            "Matrix:\n",
            "[[1 1 1]\n",
            " [1 1 1]\n",
            " [1 1 1]]\n",
            "\n",
            "Shape:\t(3, 3)\n",
            "Size:\t9\n",
            "Rank:\t2\n",
            "\n",
            "The matrix is square\n",
            "The matrix is not empty\n",
            "\n",
            "Ones Matrix\n",
            "\n",
            "\n"
          ]
        }
      ]
    },
    {
      "cell_type": "code",
      "source": [
        "mat_desc(C)"
      ],
      "metadata": {
        "colab": {
          "base_uri": "https://localhost:8080/"
        },
        "id": "20X7djgTSqoE",
        "outputId": "13181d9b-42ab-4429-aa52-4fc1112a2d6f"
      },
      "execution_count": null,
      "outputs": [
        {
          "output_type": "stream",
          "name": "stdout",
          "text": [
            "Matrix:\n",
            "[[0. 0. 0. 0. 0. 0.]\n",
            " [0. 0. 0. 0. 0. 0.]\n",
            " [0. 0. 0. 0. 0. 0.]\n",
            " [0. 0. 0. 0. 0. 0.]]\n",
            "\n",
            "Shape:\t(4, 6)\n",
            "Size:\t24\n",
            "Rank:\t2\n",
            "\n",
            "The matrix is non-square\n",
            "The matrix is not empty\n",
            "\n",
            "\n",
            "Zeros Matrix \n",
            "\n",
            "\n"
          ]
        }
      ]
    },
    {
      "cell_type": "code",
      "source": [
        "mat_desc(D)"
      ],
      "metadata": {
        "colab": {
          "base_uri": "https://localhost:8080/"
        },
        "id": "p9GSK6BaSthM",
        "outputId": "de67cb7c-5fa3-4255-861e-66657ae4659b"
      },
      "execution_count": null,
      "outputs": [
        {
          "output_type": "stream",
          "name": "stdout",
          "text": [
            "Matrix:\n",
            "[[1. 0. 0. 0. 0. 0.]\n",
            " [0. 1. 0. 0. 0. 0.]\n",
            " [0. 0. 1. 0. 0. 0.]\n",
            " [0. 0. 0. 1. 0. 0.]\n",
            " [0. 0. 0. 0. 1. 0.]\n",
            " [0. 0. 0. 0. 0. 1.]]\n",
            "\n",
            "Shape:\t(6, 6)\n",
            "Size:\t36\n",
            "Rank:\t2\n",
            "\n",
            "The matrix is square\n",
            "The matrix is not empty\n",
            "Identity Matrix\n",
            "\n",
            "\n",
            "\n",
            "\n"
          ]
        }
      ]
    },
    {
      "cell_type": "markdown",
      "source": [
        "### Flowchart\n",
        "![Untitled Diagram.jpg](data:image/jpeg;base64,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)"
      ],
      "metadata": {
        "id": "EaFvzrF1Z_gE"
      }
    },
    {
      "cell_type": "markdown",
      "source": [
        "### Task 2"
      ],
      "metadata": {
        "id": "pjVocsIcfi6q"
      }
    },
    {
      "cell_type": "markdown",
      "source": [
        "Create a function named `mat_operations()` that takes in two matrices a input parameters it should:<br>\n",
        " 1. Determines if the matrices are viable for operation and returns your own error message if they are not viable.\n",
        " 2. Returns the sum of the matrices.\n",
        " 3. Returns the differen of the matrices.\n",
        " 4. Returns the element-wise multiplication of the matrices.\n",
        " 5. Returns the element-wise division of the matrices.\n",
        "\n",
        "Use 5 sample matrices in which their shapes are not lower than $(3,3)$.\n",
        "In your methodology, create a flowchart discuss the functions and methods you have done. Present your results in the results section showing the description of each matrix you have declared."
      ],
      "metadata": {
        "id": "FfU5jGGJflen"
      }
    },
    {
      "cell_type": "markdown",
      "source": [
        "###Function area"
      ],
      "metadata": {
        "id": "Py07DrBLsMkI"
      }
    },
    {
      "cell_type": "code",
      "source": [
        "def mat_operations(K,J):\n",
        "  if (K.shape != J.shape):\n",
        "    print('The shape of both matrices are not the same. You will not able to perform operations')\n",
        "  elif (K.shape == J.shape):\n",
        "    print('The matrices are viable.')\n",
        "  else:\n",
        "    print('The matrix is empty')"
      ],
      "metadata": {
        "id": "tQFpLCeygG89"
      },
      "execution_count": null,
      "outputs": []
    },
    {
      "cell_type": "markdown",
      "source": [
        "###Matrix Declaration"
      ],
      "metadata": {
        "id": "gz39CoR7sj6x"
      }
    },
    {
      "cell_type": "code",
      "source": [
        "K = np.array([\n",
        "    [2,8,7],\n",
        "    [-2,4,6],\n",
        "    [6,8,6]\n",
        "])\n",
        "J = np.array([\n",
        "    [3,3,3],\n",
        "    [2,4,2],\n",
        "    [5,6,6]\n",
        "])\n",
        "L = np.array([\n",
        "    [7,-3,13],\n",
        "    [0,9,-2],\n",
        "    [-5,1,8],\n",
        "    [-10, 0, 1],\n",
        "])\n",
        "M = np.array([\n",
        "    [2,-5,-11,0],\n",
        "    [-9,4,6,13],\n",
        "    [4,7,12,-2],\n",
        "])\n",
        "N = np.array([\n",
        "    [1,4,5,12],\n",
        "    [-5,8,9,0],\n",
        "    [-6,7,11,19]\n",
        "])"
      ],
      "metadata": {
        "id": "WakMV80KgHGZ"
      },
      "execution_count": null,
      "outputs": []
    },
    {
      "cell_type": "markdown",
      "source": [
        "### Test Areas"
      ],
      "metadata": {
        "id": "pazEmD9sspf_"
      }
    },
    {
      "cell_type": "code",
      "source": [
        "ksum = K + J\n",
        "print('The sum of the given matrices: \\n', ksum)\n",
        "mat_operations(K,J)"
      ],
      "metadata": {
        "id": "1LGSrXTegHOV",
        "colab": {
          "base_uri": "https://localhost:8080/"
        },
        "outputId": "a74e7192-5dbf-49ce-8ab5-037b67a58434"
      },
      "execution_count": null,
      "outputs": [
        {
          "output_type": "stream",
          "name": "stdout",
          "text": [
            "The sum of the given matrices: \n",
            " [[ 5 11 10]\n",
            " [ 0  8  8]\n",
            " [11 14 12]]\n",
            "The matrices are viable.\n"
          ]
        }
      ]
    },
    {
      "cell_type": "code",
      "source": [
        "kdiff = K - J\n",
        "print('The difference of the given matrices: \\n', kdiff)\n",
        "mat_operations(K,J)"
      ],
      "metadata": {
        "colab": {
          "base_uri": "https://localhost:8080/"
        },
        "id": "F5ghmXgyst9k",
        "outputId": "a87c95dc-98bd-49ab-c459-3c68c8332c0d"
      },
      "execution_count": null,
      "outputs": [
        {
          "output_type": "stream",
          "name": "stdout",
          "text": [
            "The difference of the given matrices: \n",
            " [[-1  5  4]\n",
            " [-4  0  4]\n",
            " [ 1  2  0]]\n",
            "The matrices are viable.\n"
          ]
        }
      ]
    },
    {
      "cell_type": "code",
      "source": [
        "kmul = np.multiply(K,J)\n",
        "print('The element-wise multiplication of the given matrices: \\n', kmul)\n",
        "mat_operations(K,J)"
      ],
      "metadata": {
        "colab": {
          "base_uri": "https://localhost:8080/"
        },
        "id": "IteOZtTgsxDJ",
        "outputId": "a859028c-48e7-4162-8ace-20ece00e14fe"
      },
      "execution_count": null,
      "outputs": [
        {
          "output_type": "stream",
          "name": "stdout",
          "text": [
            "The element-wise multiplication of the given matrices: \n",
            " [[ 6 24 21]\n",
            " [-4 16 12]\n",
            " [30 48 36]]\n",
            "The matrices are viable.\n"
          ]
        }
      ]
    },
    {
      "cell_type": "code",
      "source": [
        "kdiv = np.divide(K,J)\n",
        "print('The element-wise division of the given matrices: \\n', kdiv)\n",
        "mat_operations(K,J)"
      ],
      "metadata": {
        "colab": {
          "base_uri": "https://localhost:8080/"
        },
        "id": "E4RR2Wj0sy0S",
        "outputId": "ef75ba96-e440-4724-9d22-dc5eb0fa12b9"
      },
      "execution_count": null,
      "outputs": [
        {
          "output_type": "stream",
          "name": "stdout",
          "text": [
            "The element-wise division of the given matrices: \n",
            " [[ 0.66666667  2.66666667  2.33333333]\n",
            " [-1.          1.          3.        ]\n",
            " [ 1.2         1.33333333  1.        ]]\n",
            "The matrices are viable.\n"
          ]
        }
      ]
    },
    {
      "cell_type": "markdown",
      "source": [
        "### Flowchart\n",
        "![274254227_355484386481309_3953203528952943691_n.png](data:image/png;base64,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)"
      ],
      "metadata": {
        "id": "k2QDaCcHZpwU"
      }
    },
    {
      "cell_type": "markdown",
      "source": [
        "## Conclusion\n"
      ],
      "metadata": {
        "id": "m58T90zBgHzB"
      }
    },
    {
      "cell_type": "markdown",
      "source": [
        "For your conclusion synthesize the concept and application of the laboratory. Briefly discuss what you have learned and achieved in this activity. Also answer the question: \"How can matrix operations solve problems in technology?\"."
      ],
      "metadata": {
        "id": "preto6D8gM3p"
      }
    },
    {
      "cell_type": "markdown",
      "source": [
        "Matrices have a wide range of applications in various branches of mathematics; in fields like engineering, physics, economics, and statistics. It may be used to write and deal with many linear equations, often known as a system of linear equations, in a compact manner. The numbers in a matrix can represent both data and mathematical equations. \n",
        "\n",
        "Considering that we live in the era of advanced technologies, and we use modern inventions in our everyday life to analyze things to solve a problem, we need tools like matrices that we can utilize, such as in linear programming, where we can use to predict. Matrices can be used to analyze things to solve problems and can be applied to develop different technologies. In this activity, students learned how to apply operations on matrices. They also discussed how to determine the shapes of it and how important to know first the shape of the matrix to determine if an operation can be applied to it. Also, they comprehend different matrices and their functions using Python programming. Furthermore, the students were able to apply the learnings in creating two programs; where they declare matrices, display shape, rank, and size, and lastly, they use different mathematical operations in the declared matrices. With that, we can say that matrix operations are a much more efficient solution in technology. \n",
        "\n",
        "\n",
        "\n",
        " \n",
        "\n",
        "\n",
        "\n"
      ],
      "metadata": {
        "id": "ILomkXUIFbV0"
      }
    }
  ]
}