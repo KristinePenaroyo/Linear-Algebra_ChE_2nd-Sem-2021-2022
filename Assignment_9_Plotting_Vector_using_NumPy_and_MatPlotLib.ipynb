{
  "nbformat": 4,
  "nbformat_minor": 0,
  "metadata": {
    "kernelspec": {
      "display_name": "Python 3",
      "language": "python",
      "name": "python3"
    },
    "language_info": {
      "codemirror_mode": {
        "name": "ipython",
        "version": 3
      },
      "file_extension": ".py",
      "mimetype": "text/x-python",
      "name": "python",
      "nbconvert_exporter": "python",
      "pygments_lexer": "ipython3",
      "version": "3.8.3"
    },
    "colab": {
      "name": "Assignment #9: Plotting Vector using NumPy and MatPlotLib.ipynb",
      "provenance": [],
      "collapsed_sections": [],
      "include_colab_link": true
    }
  },
  "cells": [
    {
      "cell_type": "markdown",
      "metadata": {
        "id": "view-in-github",
        "colab_type": "text"
      },
      "source": [
        "<a href=\"https://colab.research.google.com/github/KristinePenaroyo/Linear-Algebra_ChE_2nd-Sem-2021-2022/blob/main/Assignment_9_Plotting_Vector_using_NumPy_and_MatPlotLib.ipynb\" target=\"_parent\"><img src=\"https://colab.research.google.com/assets/colab-badge.svg\" alt=\"Open In Colab\"/></a>"
      ]
    },
    {
      "cell_type": "markdown",
      "metadata": {
        "id": "SLUubLCzHs4V"
      },
      "source": [
        "# Linear Algebra for ChE\n",
        "## Laboratory 4 - Plotting Vector using NumPy and MatPlotLib\n",
        "\n",
        "\n",
        "In this laboratory we will be discussing the basics of numerical and scientific programming by working with Vectors using NumPy and MatPlotLib."
      ]
    },
    {
      "cell_type": "markdown",
      "metadata": {
        "id": "Wg4cezD8Hs4b"
      },
      "source": [
        "### Objectives\n",
        "At the end of this activity you will be able to:\n",
        "1. Be familiar with the libraries in Python for numerical and scientific programming.\n",
        "2. Visualize vectors through Python programming.\n",
        "3. Perform simple vector operations through code."
      ]
    },
    {
      "cell_type": "markdown",
      "metadata": {
        "id": "UQD7DoC2Hs4b"
      },
      "source": [
        "## Discussion"
      ]
    },
    {
      "cell_type": "markdown",
      "metadata": {
        "id": "A6grbAIbHs4c"
      },
      "source": [
        "### NumPy"
      ]
    },
    {
      "cell_type": "markdown",
      "metadata": {
        "id": "xY4puSv4Hs4d"
      },
      "source": [
        "Numerical Python, also known as NumPy, is primarily utilized for tasks involving matrices and vectors. It can declare computing operations and represent matrices. The majority of Python scientific programming libraries use NumPy as their foundational code."
      ]
    },
    {
      "cell_type": "markdown",
      "metadata": {
        "id": "Psf8tzmWH4b6"
      },
      "source": [
        "Scalars \\\\\n",
        "Represent magnitude or a single value\n",
        "\n",
        "Vectors \\\\\n",
        "Represent magnitude with directors"
      ]
    },
    {
      "cell_type": "markdown",
      "metadata": {
        "id": "OXixP-e6Hs4d"
      },
      "source": [
        "#### Representing Vectors"
      ]
    },
    {
      "cell_type": "markdown",
      "metadata": {
        "id": "y-nXPTTuHs4e"
      },
      "source": [
        "Now that you understand how to represent vectors in their component and matrix forms, we can hard-code them in Python. Assume you have the vectors:"
      ]
    },
    {
      "cell_type": "markdown",
      "metadata": {
        "id": "LlEfOzbtHs4e"
      },
      "source": [
        "$$ B = 9\\hat{x} + 6\\hat{y} \\\\\n",
        "L = 4\\hat{x} - 2\\hat{y}\\\\\n",
        "U = 3ax + 3ay - 8az \\\\\n",
        "E = 7\\hat{i} - 5\\hat{j} + 8\\hat{k}$$"
      ]
    },
    {
      "cell_type": "markdown",
      "metadata": {
        "id": "l6LHUvnRHs4f"
      },
      "source": [
        "In which it's matrix equivalent is:"
      ]
    },
    {
      "cell_type": "markdown",
      "metadata": {
        "id": "YKAjjPnYHs4g"
      },
      "source": [
        "$$ B = \\begin{bmatrix} 9 \\\\ 6\\end{bmatrix} , L = \\begin{bmatrix} 4 \\\\ -2\\end{bmatrix} , U = \\begin{bmatrix} 3 \\\\ 3 \\\\  -8 \\end{bmatrix}, E = \\begin{bmatrix} 7 \\\\ -5 \\\\ 8\\end{bmatrix}\n",
        "$$\n",
        "$$ B = \\begin{bmatrix} 9 & 6\\end{bmatrix} , L = \\begin{bmatrix} 4 & -2\\end{bmatrix} , U = \\begin{bmatrix} 3 & 3 & -8\\end{bmatrix} , E = \\begin{bmatrix} 7 & -5 & 8\\end{bmatrix} \n",
        "$$"
      ]
    },
    {
      "cell_type": "markdown",
      "metadata": {
        "id": "lkrX9lHBHs4g"
      },
      "source": [
        "We can then start doing numpy code with this by:"
      ]
    },
    {
      "cell_type": "code",
      "metadata": {
        "id": "Vi6yz53gHs4h"
      },
      "source": [
        "## Importing necessary libraries\n",
        "import numpy as np ## 'np' here is short-hand name of the library (numpy) or a nickname."
      ],
      "execution_count": null,
      "outputs": []
    },
    {
      "cell_type": "code",
      "metadata": {
        "colab": {
          "base_uri": "https://localhost:8080/"
        },
        "id": "KGr4fBg0Hs4j",
        "outputId": "da531f98-0c23-4ceb-bba4-1c52713b10d2"
      },
      "source": [
        "B = np.array([9, 6])\n",
        "L = np.array([4, -2])\n",
        "U = np.array([\n",
        "              [3],\n",
        "              [3],\n",
        "              [-8]\n",
        "])\n",
        "E = np.array ([[7],\n",
        "              [-5],\n",
        "              [8]])\n",
        "print('Vector B is ', B)\n",
        "print('Vector L is ', L)\n",
        "print('Vector U is ', U)\n",
        "print('Vector E is ', E)"
      ],
      "execution_count": null,
      "outputs": [
        {
          "output_type": "stream",
          "name": "stdout",
          "text": [
            "Vector B is  [9 6]\n",
            "Vector L is  [ 4 -2]\n",
            "Vector U is  [[ 3]\n",
            " [ 3]\n",
            " [-8]]\n",
            "Vector E is  [[ 7]\n",
            " [-5]\n",
            " [ 8]]\n"
          ]
        }
      ]
    },
    {
      "cell_type": "markdown",
      "metadata": {
        "id": "DQhfqdq_Hs4l"
      },
      "source": [
        "#### Describing vectors in NumPy"
      ]
    },
    {
      "cell_type": "markdown",
      "metadata": {
        "id": "fzU-jDHoHs4m"
      },
      "source": [
        "Describing vectors is very important if we want to perform basic to advanced operations with them. Vectors are easiest to describe when you know their shape, size, and dimensions."
      ]
    },
    {
      "cell_type": "code",
      "metadata": {
        "colab": {
          "base_uri": "https://localhost:8080/"
        },
        "id": "HRz2gx6JHs4n",
        "outputId": "29bcebc0-6afb-4cfa-f4c5-09d3b4efc936"
      },
      "source": [
        "### Checking shapes\n",
        "### Shapes tells us how many elements are there on each row and column\n",
        "\n",
        "K = np.array([[11, 23, 12.1, 1.2, 2.3, 9.19]])\n",
        "K.shape"
      ],
      "execution_count": null,
      "outputs": [
        {
          "output_type": "execute_result",
          "data": {
            "text/plain": [
              "(1, 6)"
            ]
          },
          "metadata": {},
          "execution_count": 85
        }
      ]
    },
    {
      "cell_type": "code",
      "metadata": {
        "colab": {
          "base_uri": "https://localhost:8080/"
        },
        "id": "dlDEokrAHs4o",
        "outputId": "6faa0c32-a34c-4e3c-eb64-ab3cfa3550c0"
      },
      "source": [
        "### Checking size\n",
        "### Array/Vector sizes tells us many total number of elements are there in the vector\n",
        "\n",
        "K.size"
      ],
      "execution_count": null,
      "outputs": [
        {
          "output_type": "execute_result",
          "data": {
            "text/plain": [
              "6"
            ]
          },
          "metadata": {},
          "execution_count": 86
        }
      ]
    },
    {
      "cell_type": "code",
      "metadata": {
        "colab": {
          "base_uri": "https://localhost:8080/"
        },
        "id": "lwAQGA_JHs4p",
        "outputId": "4fa55c8a-e846-4c1e-b5cc-19fa34d392c1"
      },
      "source": [
        "### Checking dimensions\n",
        "### The dimensions or rank of a vector tells us how many dimensions are there for the vector.\n",
        "\n",
        "K.ndim"
      ],
      "execution_count": null,
      "outputs": [
        {
          "output_type": "execute_result",
          "data": {
            "text/plain": [
              "2"
            ]
          },
          "metadata": {},
          "execution_count": 87
        }
      ]
    },
    {
      "cell_type": "markdown",
      "metadata": {
        "id": "MReB86duHs4q"
      },
      "source": [
        "Great! Let's take a look at how these vectors can be used to perform operations."
      ]
    },
    {
      "cell_type": "markdown",
      "metadata": {
        "id": "tMdCFWyUHs4r"
      },
      "source": [
        "#### Addition"
      ]
    },
    {
      "cell_type": "markdown",
      "metadata": {
        "id": "OjVFwq6iHs4r"
      },
      "source": [
        "The addition rule is straightforward; we simply add the matrices' elements based on their index. In this case, adding vector $A$ and vector $B$ yields the following vector:"
      ]
    },
    {
      "cell_type": "markdown",
      "metadata": {
        "id": "9zUtJ7oEHs4s"
      },
      "source": [
        "$$R = 6\\hat{x}-2\\hat{y} \\\\ \\\\or \\\\ \\\\ R = \\begin{bmatrix} 6 \\\\ -2\\end{bmatrix} $$"
      ]
    },
    {
      "cell_type": "markdown",
      "metadata": {
        "id": "gVg-6JwyHs4s"
      },
      "source": [
        "So let's try to do that in NumPy in several number of ways:"
      ]
    },
    {
      "cell_type": "code",
      "metadata": {
        "id": "X1D_izU4Hs4t",
        "colab": {
          "base_uri": "https://localhost:8080/"
        },
        "outputId": "1cd2482e-0238-452d-af9e-fd1a655f0d08"
      },
      "source": [
        "R = np.add(B, L) ## this is the functional method usisng the numpy library\n",
        "P = np.add(U,E)\n",
        "P"
      ],
      "execution_count": null,
      "outputs": [
        {
          "output_type": "execute_result",
          "data": {
            "text/plain": [
              "array([[10],\n",
              "       [-2],\n",
              "       [ 0]])"
            ]
          },
          "metadata": {},
          "execution_count": 88
        }
      ]
    },
    {
      "cell_type": "code",
      "metadata": {
        "colab": {
          "base_uri": "https://localhost:8080/"
        },
        "id": "jzH3b6dtHs4t",
        "outputId": "3280550f-6c18-4f8d-fcdf-cfab52f50759"
      },
      "source": [
        "R = U + E   ## this is the explicit method, since Python does a value-reference so it can \n",
        "            ## know that these variables would need to do array operations.\n",
        "R"
      ],
      "execution_count": null,
      "outputs": [
        {
          "output_type": "execute_result",
          "data": {
            "text/plain": [
              "array([[10],\n",
              "       [-2],\n",
              "       [ 0]])"
            ]
          },
          "metadata": {},
          "execution_count": 89
        }
      ]
    },
    {
      "cell_type": "code",
      "metadata": {
        "colab": {
          "base_uri": "https://localhost:8080/"
        },
        "id": "lFpzDkUbVE-s",
        "outputId": "42133d52-6ea6-4fd3-db7f-33f77d57554e"
      },
      "source": [
        "pos1 = np.array([2,-4,6])\n",
        "pos2 = np.array([-3,6,9])\n",
        "pos3 = np.array([4,8,-12])\n",
        "pos4 = np.array([5,-10,15])\n",
        "R = pos1 + pos2 + pos3 + pos4\n",
        "#R = np.multiply(pos2, pos1)\n",
        "#R = pos3 / pos4\n",
        "R"
      ],
      "execution_count": null,
      "outputs": [
        {
          "output_type": "execute_result",
          "data": {
            "text/plain": [
              "array([ 8,  0, 18])"
            ]
          },
          "metadata": {},
          "execution_count": 90
        }
      ]
    },
    {
      "cell_type": "code",
      "source": [
        "pos1 = np.array([2,-4,6])\n",
        "pos2 = np.array([-3,6,9])\n",
        "pos3 = np.array([4,8,-12])\n",
        "pos4 = np.array([5,-10,15])\n",
        "#R = pos1 + pos2 + pos3 + pos4\n",
        "R = np.multiply(pos2, pos1)\n",
        "#R = pos3 / pos4\n",
        "R"
      ],
      "metadata": {
        "colab": {
          "base_uri": "https://localhost:8080/"
        },
        "id": "r3KPOLEyEFAU",
        "outputId": "2f12bc24-3b33-4aa5-b466-325e56539c29"
      },
      "execution_count": null,
      "outputs": [
        {
          "output_type": "execute_result",
          "data": {
            "text/plain": [
              "array([ -6, -24,  54])"
            ]
          },
          "metadata": {},
          "execution_count": 91
        }
      ]
    },
    {
      "cell_type": "code",
      "source": [
        "pos1 = np.array([2,-4,6])\n",
        "pos2 = np.array([-3,6,9])\n",
        "pos3 = np.array([4,8,-12])\n",
        "pos4 = np.array([5,-10,15])\n",
        "#R = pos1 + pos2 + pos3 + pos4\n",
        "#R = np.multiply(pos2, pos1)\n",
        "R = pos3 / pos4\n",
        "R"
      ],
      "metadata": {
        "colab": {
          "base_uri": "https://localhost:8080/"
        },
        "id": "62FUFbRIER2G",
        "outputId": "b53b4eed-de6f-4473-b358-d6e7a6206222"
      },
      "execution_count": null,
      "outputs": [
        {
          "output_type": "execute_result",
          "data": {
            "text/plain": [
              "array([ 0.8, -0.8, -0.8])"
            ]
          },
          "metadata": {},
          "execution_count": 92
        }
      ]
    },
    {
      "cell_type": "markdown",
      "metadata": {
        "id": "CuAeF55ZHs4u"
      },
      "source": [
        "##### Try for yourself!"
      ]
    },
    {
      "cell_type": "markdown",
      "metadata": {
        "id": "oeSxmIS8Hs4v"
      },
      "source": [
        "Try to implement subtraction, multiplication, and division with vectors $A$ and $B$!"
      ]
    },
    {
      "cell_type": "code",
      "metadata": {
        "id": "g4-WGjUvHs4v",
        "colab": {
          "base_uri": "https://localhost:8080/"
        },
        "outputId": "fbb1ba87-aa39-471c-e4e3-a3147dcac37c"
      },
      "source": [
        "pos1 = np.array([-51,14.50])\n",
        "pos2 = np.array([20,100])\n",
        "R = pos1 - pos2 \n",
        "R\n"
      ],
      "execution_count": null,
      "outputs": [
        {
          "output_type": "execute_result",
          "data": {
            "text/plain": [
              "array([-71. , -85.5])"
            ]
          },
          "metadata": {},
          "execution_count": 93
        }
      ]
    },
    {
      "cell_type": "code",
      "source": [
        "R = pos1 * pos2 \n",
        "R"
      ],
      "metadata": {
        "colab": {
          "base_uri": "https://localhost:8080/"
        },
        "id": "rTEzBtJKFmXl",
        "outputId": "b42f321a-fb09-4237-a028-19048974c473"
      },
      "execution_count": null,
      "outputs": [
        {
          "output_type": "execute_result",
          "data": {
            "text/plain": [
              "array([-1020.,  1450.])"
            ]
          },
          "metadata": {},
          "execution_count": 94
        }
      ]
    },
    {
      "cell_type": "code",
      "source": [
        "R = pos1 / pos2 \n",
        "R"
      ],
      "metadata": {
        "colab": {
          "base_uri": "https://localhost:8080/"
        },
        "id": "sz7hvhJ0FrPU",
        "outputId": "20ba1f7f-9e21-40de-c3f4-95e9bd52c07e"
      },
      "execution_count": null,
      "outputs": [
        {
          "output_type": "execute_result",
          "data": {
            "text/plain": [
              "array([-2.55 ,  0.145])"
            ]
          },
          "metadata": {},
          "execution_count": 95
        }
      ]
    },
    {
      "cell_type": "markdown",
      "metadata": {
        "id": "3otcBr7tHs4w"
      },
      "source": [
        "### Scaling"
      ]
    },
    {
      "cell_type": "markdown",
      "metadata": {
        "id": "FVwvCklOHs4x"
      },
      "source": [
        "Scaling, or scalar multiplication, involves the multiplication of a scalar value by a vector. Take a look at the following:"
      ]
    },
    {
      "cell_type": "markdown",
      "metadata": {
        "id": "8el8_cMUHs4x"
      },
      "source": [
        "$$S = 5 \\cdot B$$"
      ]
    },
    {
      "cell_type": "markdown",
      "metadata": {
        "id": "Oh9sk6lKHs4y"
      },
      "source": [
        "We can do this in numpy through:"
      ]
    },
    {
      "cell_type": "code",
      "metadata": {
        "colab": {
          "base_uri": "https://localhost:8080/"
        },
        "id": "QNruUX1pHs4y",
        "outputId": "c1150ef5-0e3b-4a41-870f-4f9cce4c2d7c"
      },
      "source": [
        "#S = 5 * E\n",
        "S = np.multiply(5,E)\n",
        "S"
      ],
      "execution_count": null,
      "outputs": [
        {
          "output_type": "execute_result",
          "data": {
            "text/plain": [
              "array([[ 35],\n",
              "       [-25],\n",
              "       [ 40]])"
            ]
          },
          "metadata": {},
          "execution_count": 101
        }
      ]
    },
    {
      "cell_type": "markdown",
      "metadata": {
        "id": "owN3j6rMWr-3"
      },
      "source": [
        "Try to implement scaling with two vectors."
      ]
    },
    {
      "cell_type": "code",
      "metadata": {
        "id": "EU0zkP_tWwWe",
        "colab": {
          "base_uri": "https://localhost:8080/"
        },
        "outputId": "22d3d4bd-4a61-4123-b3e2-d9ef4a681cfa"
      },
      "source": [
        "S = np.multiply(3,U)\n",
        "S"
      ],
      "execution_count": null,
      "outputs": [
        {
          "output_type": "execute_result",
          "data": {
            "text/plain": [
              "array([[  9],\n",
              "       [  9],\n",
              "       [-24]])"
            ]
          },
          "metadata": {},
          "execution_count": 107
        }
      ]
    },
    {
      "cell_type": "code",
      "source": [
        "S = np.multiply(10,E)\n",
        "S"
      ],
      "metadata": {
        "colab": {
          "base_uri": "https://localhost:8080/"
        },
        "id": "V9cl91YUIItX",
        "outputId": "ca475758-0773-4681-f063-9531dfa24abc"
      },
      "execution_count": null,
      "outputs": [
        {
          "output_type": "execute_result",
          "data": {
            "text/plain": [
              "array([[ 70],\n",
              "       [-50],\n",
              "       [ 80]])"
            ]
          },
          "metadata": {},
          "execution_count": 110
        }
      ]
    },
    {
      "cell_type": "markdown",
      "metadata": {
        "id": "j04WSo4YHs4z"
      },
      "source": [
        "### MatPlotLib"
      ]
    },
    {
      "cell_type": "markdown",
      "metadata": {
        "id": "CP_9s8r-Hs4z"
      },
      "source": [
        "MatPlotLib, also known as the MATLab Plotting Library, is Python's implementation of MATLab's plotting feature. MatPlotLib has a wide range of applications, from grapping values to visualizing multiple dimensions of data."
      ]
    },
    {
      "cell_type": "markdown",
      "metadata": {
        "id": "ZM6_LZWWHs42"
      },
      "source": [
        "#### Visualizing Data"
      ]
    },
    {
      "cell_type": "markdown",
      "metadata": {
        "id": "ziwIKGPHHs43"
      },
      "source": [
        "It is not sufficient to simply solve these vectors, so it may be necessary to visualize them. Therefore, MatPlotLib will be utilized for this purpose. We'll need to import it first."
      ]
    },
    {
      "cell_type": "code",
      "metadata": {
        "id": "B2U78WnhHs43"
      },
      "source": [
        "import matplotlib.pyplot as plt\n",
        "import matplotlib\n",
        "%matplotlib inline"
      ],
      "execution_count": null,
      "outputs": []
    },
    {
      "cell_type": "code",
      "metadata": {
        "colab": {
          "base_uri": "https://localhost:8080/",
          "height": 265
        },
        "id": "38rzjx3jXkK_",
        "outputId": "183f013e-6413-48a1-d083-bcceaa0062f8"
      },
      "source": [
        "A = [-6, 3]\n",
        "B = [8, -19]\n",
        "plt.scatter(A[0], A[1], label='A', c='yellow')\n",
        "plt.scatter(B[0], B[1], label='B', c='cyan')\n",
        "plt.grid()\n",
        "plt.legend()\n",
        "plt.show()"
      ],
      "execution_count": null,
      "outputs": [
        {
          "output_type": "display_data",
          "data": {
            "text/plain": [
              "<Figure size 432x288 with 1 Axes>"
            ],
            "image/png": "[encoded data removed]"
          },
          "metadata": {
            "needs_background": "light"
          }
        }
      ]
    },
    {
      "cell_type": "code",
      "source": [
        "A = [-6, 3, 5]\n",
        "B = [8, -19, 13]\n",
        "ax = plt.axes(projection='3d')\n",
        "plt.scatter(A[0], A[1], A[2], label='A', c='midnightblue')\n",
        "plt.scatter(B[0], B[1], B[2], label='B', c='crimson')\n",
        "plt.grid()\n",
        "plt.legend()\n",
        "plt.show()"
      ],
      "metadata": {
        "colab": {
          "base_uri": "https://localhost:8080/",
          "height": 248
        },
        "id": "8RXXF0XOLGhg",
        "outputId": "9209a059-95d5-4b68-8ebb-b3a5690a0041"
      },
      "execution_count": null,
      "outputs": [
        {
          "output_type": "display_data",
          "data": {
            "text/plain": [
              "<Figure size 432x288 with 1 Axes>"
            ],
            "image/png": "[encoded data removed]"
          },
          "metadata": {
            "needs_background": "light"
          }
        }
      ]
    },
    {
      "cell_type": "code",
      "metadata": {
        "colab": {
          "base_uri": "https://localhost:8080/",
          "height": 365
        },
        "id": "KZgiMGCEZpJn",
        "outputId": "db6c44a8-4868-4712-80a9-c69db3d8f275"
      },
      "source": [
        "A = np.array([5, 3])\n",
        "B = np.array([-7, 2])\n",
        "plt.title(\"Resultant Vector\\nMagnitude:{}\" .format(Magnitude))\n",
        "plt.xlim(-8, 8)\n",
        "plt.ylim(-8, 8)\n",
        "plt.quiver(0, 0, A[0], A[1], angles='xy', scale_units='xy', scale=1, color='fuchsia')\n",
        "plt.quiver(A[0], A[1], B[0], B[1], angles='xy', scale_units='xy', scale=1, color='dodgerblue')\n",
        "R = A + B\n",
        "plt.quiver(0, 0, R[0], R[1], angles='xy', scale_units='xy', scale=1, color='chartreuse')\n",
        "plt.grid()\n",
        "plt.show()\n",
        "print(R)\n",
        "Magnitude = np.sqrt(np.sum(R**2))\n",
        "print(Magnitude)\n",
        "\n",
        "Slope = R[1]/R[0]\n",
        "print(Slope)\n",
        "Angle = (np.arctan(Slope))*(180/np.pi)\n",
        "print(Angle)"
      ],
      "execution_count": null,
      "outputs": [
        {
          "output_type": "display_data",
          "data": {
            "text/plain": [
              "<Figure size 432x288 with 1 Axes>"
            ],
            "image/png": "[encoded data removed]"
          },
          "metadata": {
            "needs_background": "light"
          }
        },
        {
          "output_type": "stream",
          "name": "stdout",
          "text": [
            "[-2  5]\n",
            "5.385164807134504\n",
            "-2.5\n",
            "-68.19859051364818\n"
          ]
        }
      ]
    },
    {
      "cell_type": "code",
      "metadata": {
        "id": "0NZnAZckHs44",
        "outputId": "6b115f91-214a-4a56-d495-385ea94cab51",
        "colab": {
          "base_uri": "https://localhost:8080/",
          "height": 265
        }
      },
      "source": [
        "n = B.shape[0]\n",
        "plt.xlim(-7, 7)\n",
        "plt.ylim(-7, 7)\n",
        "plt.quiver(0,0, A[0], A[1], angles='xy', scale_units='xy',scale=1, color='lightcoral')\n",
        "plt.quiver(A[0],A[1], B[0], B[1], angles='xy', scale_units='xy',scale=1, color='lightcoral')\n",
        "plt.quiver(0,0, R[0], R[1], angles='xy', scale_units='xy',scale=1, color='lightcoral')\n",
        "plt.show()"
      ],
      "execution_count": null,
      "outputs": [
        {
          "output_type": "display_data",
          "data": {
            "text/plain": [
              "<Figure size 432x288 with 1 Axes>"
            ],
            "image/png": "[encoded data removed]"
          },
          "metadata": {
            "needs_background": "light"
          }
        }
      ]
    },
    {
      "cell_type": "markdown",
      "metadata": {
        "id": "yWijJqoggcva"
      },
      "source": [
        "## Plotting Three Vectors with a Resultant Vector as a result using the Head to Tail Method"
      ]
    },
    {
      "cell_type": "code",
      "source": [
        "C = np.array([4, 7])\n",
        "A = np.array([9, 8])\n",
        "T = np.array([6, 2])\n",
        "R = C + A + T\n",
        "print(R)\n",
        "Magnitude = np.sqrt(np.sum(R**2))\n",
        "print(Magnitude)\n",
        "plt.title(\"Resultant Vector\\nMagnitude:{}\" .format(Magnitude))\n",
        "plt.xlim(-11, 26)\n",
        "plt.ylim(-11, 26)\n",
        "plt.quiver(0, 0, C[0], C[1], angles='xy', scale_units='xy', scale=1, color='coral')\n",
        "plt.quiver(C[0], C[1], A[0], A[1], angles='xy', scale_units='xy', scale=1, color='orchid')\n",
        "plt.quiver(C[0], C[1], A[0], A[1], T[1], angles='xy', scale_units='xy', scale=1, color='aqua')\n",
        "plt.quiver(0, 0, R[0], R[1], angles='xy', scale_units='xy', scale=1, color='lawngreen')\n",
        "plt.grid()\n",
        "plt.show()\n",
        "\n",
        "Slope = R[1]/R[0]\n",
        "print(Slope)\n",
        "Angle = (np.arctan(Slope))*(180/np.pi)\n",
        "print(Angle)\n"
      ],
      "metadata": {
        "colab": {
          "base_uri": "https://localhost:8080/",
          "height": 365
        },
        "id": "7Zlfr7dQUIz2",
        "outputId": "5ccce88f-5ca8-4934-bc57-8e6651b2b34b"
      },
      "execution_count": null,
      "outputs": [
        {
          "output_type": "stream",
          "name": "stdout",
          "text": [
            "[19 17]\n",
            "25.495097567963924\n"
          ]
        },
        {
          "output_type": "display_data",
          "data": {
            "text/plain": [
              "<Figure size 432x288 with 1 Axes>"
            ],
            "image/png": "[encoded data removed]"
          },
          "metadata": {
            "needs_background": "light"
          }
        },
        {
          "output_type": "stream",
          "name": "stdout",
          "text": [
            "0.8947368421052632\n",
            "41.82016988013577\n"
          ]
        }
      ]
    },
    {
      "cell_type": "markdown",
      "source": [
        "## Conclusion \n",
        "Students were able to understand the basics of displaying, describing, and doing matrix operations on vectors. They could also use NumPy and MatPlotLib to plot vectors. In addition, they visualized a vector and its result in accordance with the given task.\n",
        "\n",
        "Python is unique in that it allows you to choose the programming paradigm that best suits your needs in each particular case. Even inside a Python program, you may mix and switch paradigms as long as you remember to keep packages to inputs and outputs. There are no constraints prohibiting you from mixing and matching styles as required. Python includes a number of features that allow different users to code values in different ways depending on distinct mathematical difficulties. Each one of these operations may be built as distinct processes in calculator software that does additions, subtraction, arithmetic, division, square root, and comparison. Each method would be executed in the primary program based on the user's preference. Python is therefore a user-friendly programming language with a large mathematics and coding language. Python is a general-purpose programming language, which means it can be used to develop a wide range of applications and isn't tailored to any particular issue. It has become one of the most widely used programming languages due to its flexibility and beginner friendliness.\n",
        "\n",
        "Python provides the tools necessary to produce a visualization that is appropriate for the user's needs, regardless of whether they are an engineer reviewing data from an experiment or a researcher presenting their findings at a conference.\n",
        "\n"
      ],
      "metadata": {
        "id": "L15vdvv6JkfA"
      }
    }
  ]
}