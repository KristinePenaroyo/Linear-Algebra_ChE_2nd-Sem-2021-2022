{
  "nbformat": 4,
  "nbformat_minor": 0,
  "metadata": {
    "colab": {
      "name": "Activity 1 - Python Fundamentals",
      "provenance": [],
      "authorship_tag": "ABX9TyPVOuzFMST5nPr+ZQqu0CvJ",
      "include_colab_link": true
    },
    "kernelspec": {
      "name": "python3",
      "display_name": "Python 3"
    },
    "language_info": {
      "name": "python"
    }
  },
  "cells": [
    {
      "cell_type": "markdown",
      "metadata": {
        "id": "view-in-github",
        "colab_type": "text"
      },
      "source": [
        "<a href=\"https://colab.research.google.com/github/KristinePenaroyo/Linear-Algebra_ChE_2nd-Sem-2021-2022/blob/main/Activity_1_Python_Fundamentals.ipynb\" target=\"_parent\"><img src=\"https://colab.research.google.com/assets/colab-badge.svg\" alt=\"Open In Colab\"/></a>"
      ]
    },
    {
      "cell_type": "code",
      "execution_count": null,
      "metadata": {
        "id": "jIgo99Su9_Da"
      },
      "outputs": [],
      "source": [
        ""
      ]
    },
    {
      "cell_type": "markdown",
      "source": [
        "# Welcome to Python Fundamentals\n",
        "In this module, we are going to establish or review our skills in Python programming. In this notebook we are going to cover:\n",
        "* Variables and Data Types \n",
        "* Operations\n",
        "* Input and Output Operations\n",
        "* Logic Control\n",
        "* Iterables\n",
        "* Functions\n"
      ],
      "metadata": {
        "id": "zP-AIFIqAPVI"
      }
    },
    {
      "cell_type": "markdown",
      "source": [
        "## Variable and Data Types\n",
        "A variable is an identifier that is used to store a value. There are four commonly used data types: int, float, char, and bool. The size and range of a data type differ from one another.\n",
        "\n"
      ],
      "metadata": {
        "id": "hb1VCToZA5ul"
      }
    },
    {
      "cell_type": "code",
      "source": [
        "k = 23\n",
        "g,v = 1, -56\n",
        "v"
      ],
      "metadata": {
        "id": "0LKZZGzKBWjJ",
        "colab": {
          "base_uri": "https://localhost:8080/"
        },
        "outputId": "3472ce32-db3c-42b9-fb98-d34e9f817e67"
      },
      "execution_count": null,
      "outputs": [
        {
          "output_type": "execute_result",
          "data": {
            "text/plain": [
              "-56"
            ]
          },
          "metadata": {},
          "execution_count": 14
        }
      ]
    },
    {
      "cell_type": "code",
      "source": [
        "type(v)"
      ],
      "metadata": {
        "id": "6U5txcaeBhgh",
        "colab": {
          "base_uri": "https://localhost:8080/"
        },
        "outputId": "ca358cae-3575-4edd-9048-676d4aac901a"
      },
      "execution_count": null,
      "outputs": [
        {
          "output_type": "execute_result",
          "data": {
            "text/plain": [
              "int"
            ]
          },
          "metadata": {},
          "execution_count": 11
        }
      ]
    },
    {
      "cell_type": "code",
      "source": [
        "l = 12.0\n",
        "type (y)"
      ],
      "metadata": {
        "colab": {
          "base_uri": "https://localhost:8080/"
        },
        "id": "AxdmzyMABnEm",
        "outputId": "e1c4643f-6e3e-444f-dc7f-16751f51def8"
      },
      "execution_count": null,
      "outputs": [
        {
          "output_type": "execute_result",
          "data": {
            "text/plain": [
              "float"
            ]
          },
          "metadata": {},
          "execution_count": 13
        }
      ]
    },
    {
      "cell_type": "code",
      "source": [
        "a = float(a)\n",
        "type (a)"
      ],
      "metadata": {
        "colab": {
          "base_uri": "https://localhost:8080/"
        },
        "id": "syaXBRF9BtGe",
        "outputId": "e5b8be9a-922a-4589-9c0f-464614ce1009"
      },
      "execution_count": null,
      "outputs": [
        {
          "output_type": "execute_result",
          "data": {
            "text/plain": [
              "float"
            ]
          },
          "metadata": {},
          "execution_count": 20
        }
      ]
    },
    {
      "cell_type": "code",
      "source": [
        "k,j,e = \"90\", '7', 'five'\n",
        "type(j)"
      ],
      "metadata": {
        "colab": {
          "base_uri": "https://localhost:8080/"
        },
        "id": "abq1nOAdB2o6",
        "outputId": "3959847d-dd70-4693-964c-d22b15a2181a"
      },
      "execution_count": null,
      "outputs": [
        {
          "output_type": "execute_result",
          "data": {
            "text/plain": [
              "str"
            ]
          },
          "metadata": {},
          "execution_count": 22
        }
      ]
    },
    {
      "cell_type": "code",
      "source": [
        "s_int = int(k)\n",
        "s_int"
      ],
      "metadata": {
        "colab": {
          "base_uri": "https://localhost:8080/"
        },
        "id": "B3KDflkCCOq-",
        "outputId": "e1c2bc08-7fc9-4fb2-e077-244ef720f2f5"
      },
      "execution_count": null,
      "outputs": [
        {
          "output_type": "execute_result",
          "data": {
            "text/plain": [
              "90"
            ]
          },
          "metadata": {},
          "execution_count": 25
        }
      ]
    },
    {
      "cell_type": "markdown",
      "source": [
        "##Operations\n",
        "Operations are such activities it can cause an effect in a variable or a functional change in the current position.\n"
      ],
      "metadata": {
        "id": "WmwJquavC4Nh"
      }
    },
    {
      "cell_type": "markdown",
      "source": [
        "###Arithmetic\n"
      ],
      "metadata": {
        "id": "Q7Cf1WasC6iZ"
      }
    },
    {
      "cell_type": "code",
      "source": [
        "r,e,s,t = 6.98, 54.73, -5.8, 3"
      ],
      "metadata": {
        "id": "oZrCvSW3lFpC"
      },
      "execution_count": null,
      "outputs": []
    },
    {
      "cell_type": "code",
      "source": [
        "# Addition\n",
        "K = e+t\n",
        "K"
      ],
      "metadata": {
        "colab": {
          "base_uri": "https://localhost:8080/"
        },
        "id": "Ie3XN4jMlKQ1",
        "outputId": "a64df668-3679-4249-b555-539ce3ae63fd"
      },
      "execution_count": null,
      "outputs": [
        {
          "output_type": "execute_result",
          "data": {
            "text/plain": [
              "57.73"
            ]
          },
          "metadata": {},
          "execution_count": 30
        }
      ]
    },
    {
      "cell_type": "code",
      "source": [
        "### Subtraction\n",
        "R = e-s\n",
        "R"
      ],
      "metadata": {
        "colab": {
          "base_uri": "https://localhost:8080/"
        },
        "id": "6LZ6GN-KlMBz",
        "outputId": "6ff8b0b7-0175-4361-89fd-b6840379a244"
      },
      "execution_count": null,
      "outputs": [
        {
          "output_type": "execute_result",
          "data": {
            "text/plain": [
              "60.529999999999994"
            ]
          },
          "metadata": {},
          "execution_count": 31
        }
      ]
    },
    {
      "cell_type": "code",
      "source": [
        "### Multiplication\n",
        "I = r*e\n",
        "I"
      ],
      "metadata": {
        "colab": {
          "base_uri": "https://localhost:8080/"
        },
        "id": "L6DpcgNplNwn",
        "outputId": "7817a836-c8f0-4e37-8e1d-38679120494e"
      },
      "execution_count": null,
      "outputs": [
        {
          "output_type": "execute_result",
          "data": {
            "text/plain": [
              "382.0154"
            ]
          },
          "metadata": {},
          "execution_count": 32
        }
      ]
    },
    {
      "cell_type": "code",
      "source": [
        "### Division \n",
        "S = s/t\n",
        "S"
      ],
      "metadata": {
        "colab": {
          "base_uri": "https://localhost:8080/"
        },
        "id": "mNjOJCOLlQF6",
        "outputId": "9e697bf6-ced0-4264-ba7c-1e88387ef1b7"
      },
      "execution_count": null,
      "outputs": [
        {
          "output_type": "execute_result",
          "data": {
            "text/plain": [
              "-1.9333333333333333"
            ]
          },
          "metadata": {},
          "execution_count": 33
        }
      ]
    },
    {
      "cell_type": "code",
      "source": [
        "### Floor Division\n",
        "Ti = s/e\n",
        "Ti"
      ],
      "metadata": {
        "colab": {
          "base_uri": "https://localhost:8080/"
        },
        "id": "wy3D87YxlSLU",
        "outputId": "1d3612fc-3a25-45e3-af3e-e78bb66099ae"
      },
      "execution_count": null,
      "outputs": [
        {
          "output_type": "execute_result",
          "data": {
            "text/plain": [
              "-0.10597478530970218"
            ]
          },
          "metadata": {},
          "execution_count": 34
        }
      ]
    },
    {
      "cell_type": "code",
      "source": [
        "### Exponentiation\n",
        "N = e**s\n",
        "N"
      ],
      "metadata": {
        "colab": {
          "base_uri": "https://localhost:8080/"
        },
        "id": "q5hCSyJVlTmx",
        "outputId": "22c0ba88-86e4-4c5f-aaba-fce62e7e352e"
      },
      "execution_count": null,
      "outputs": [
        {
          "output_type": "execute_result",
          "data": {
            "text/plain": [
              "8.284997863731103e-11"
            ]
          },
          "metadata": {},
          "execution_count": 41
        }
      ]
    },
    {
      "cell_type": "code",
      "source": [
        "### Modulo\n",
        "mod = e%r\n",
        "mod"
      ],
      "metadata": {
        "colab": {
          "base_uri": "https://localhost:8080/"
        },
        "id": "p0PTWH88lXFE",
        "outputId": "7f71b39a-40a2-42bb-c94c-fb76cda2d1f8"
      },
      "execution_count": null,
      "outputs": [
        {
          "output_type": "execute_result",
          "data": {
            "text/plain": [
              "5.869999999999994"
            ]
          },
          "metadata": {},
          "execution_count": 36
        }
      ]
    },
    {
      "cell_type": "markdown",
      "source": [
        "### Assignment Operations\n",
        "Assignment operation (=) assigns the value of the right-hand operand to the storage location named by the left-hand operand. The left-hand operand of an assignment operator must be an adjustable value. After the assignment, an assignment expression has the value of the left operand but is not a value.\n"
      ],
      "metadata": {
        "id": "tbB6ARBUoGBq"
      }
    },
    {
      "cell_type": "code",
      "source": [
        "E, A, S, T = 500, 58, 46, 27"
      ],
      "metadata": {
        "id": "JD9OpeeFoJ2J"
      },
      "execution_count": null,
      "outputs": []
    },
    {
      "cell_type": "code",
      "source": [
        "S += s\n",
        "S"
      ],
      "metadata": {
        "colab": {
          "base_uri": "https://localhost:8080/"
        },
        "id": "2plB468Qoi3h",
        "outputId": "4b130230-0c14-4a8d-f56d-a3a7b7dbf8ed"
      },
      "execution_count": null,
      "outputs": [
        {
          "output_type": "execute_result",
          "data": {
            "text/plain": [
              "40.2"
            ]
          },
          "metadata": {},
          "execution_count": 45
        }
      ]
    },
    {
      "cell_type": "code",
      "source": [
        "T -= r\n",
        "T"
      ],
      "metadata": {
        "colab": {
          "base_uri": "https://localhost:8080/"
        },
        "id": "q6Uz00Smozxy",
        "outputId": "a915c213-7137-40c0-f8e7-cde90cce515f"
      },
      "execution_count": null,
      "outputs": [
        {
          "output_type": "execute_result",
          "data": {
            "text/plain": [
              "20.02"
            ]
          },
          "metadata": {},
          "execution_count": 46
        }
      ]
    },
    {
      "cell_type": "code",
      "source": [
        "E *= e\n",
        "E"
      ],
      "metadata": {
        "colab": {
          "base_uri": "https://localhost:8080/"
        },
        "id": "b6EdlVaZpBct",
        "outputId": "ecec5626-bc2f-43be-bdf9-cce367e8af2f"
      },
      "execution_count": null,
      "outputs": [
        {
          "output_type": "execute_result",
          "data": {
            "text/plain": [
              "27365.0"
            ]
          },
          "metadata": {},
          "execution_count": 47
        }
      ]
    },
    {
      "cell_type": "code",
      "source": [
        "A **= 5\n",
        "A"
      ],
      "metadata": {
        "colab": {
          "base_uri": "https://localhost:8080/"
        },
        "id": "6mS9-GmQpPAN",
        "outputId": "a1283db1-697a-4907-fad1-c98e15ffeda5"
      },
      "execution_count": null,
      "outputs": [
        {
          "output_type": "execute_result",
          "data": {
            "text/plain": [
              "282761256881297307761016832"
            ]
          },
          "metadata": {},
          "execution_count": 49
        }
      ]
    },
    {
      "cell_type": "markdown",
      "source": [
        "### Comparators\n",
        "Comparators are a built-in design pattern in Python that allows you to sort a list in a particular way. This is useful when you have a list of objects, and you want to sort them in a certain way that respects their relationships. For example, you might have a list of students, and you want to sort them by their last name. A Comparator could be used to sort the list so that last names come before first names, and so on.\n"
      ],
      "metadata": {
        "id": "jrfBORQrrCrz"
      }
    },
    {
      "cell_type": "code",
      "source": [
        "res_11, res_23, res_20 = 56, 5.30, \"98\"\n",
        "true_val = 7.9"
      ],
      "metadata": {
        "id": "lbOAUFZtrGVZ"
      },
      "execution_count": null,
      "outputs": []
    },
    {
      "cell_type": "code",
      "source": [
        "## Equality \n",
        "res_23 == true_val"
      ],
      "metadata": {
        "colab": {
          "base_uri": "https://localhost:8080/"
        },
        "id": "OsRIgRNQr-9V",
        "outputId": "7375c803-1a9e-4639-f900-8d5ffef83774"
      },
      "execution_count": null,
      "outputs": [
        {
          "output_type": "execute_result",
          "data": {
            "text/plain": [
              "False"
            ]
          },
          "metadata": {},
          "execution_count": 53
        }
      ]
    },
    {
      "cell_type": "code",
      "source": [
        "## Non-equality\n",
        "res_11 != true_val"
      ],
      "metadata": {
        "colab": {
          "base_uri": "https://localhost:8080/"
        },
        "id": "rPfY6vCWsFT2",
        "outputId": "04a9d1b7-9fd0-4a15-920e-b5543dcc1a44"
      },
      "execution_count": null,
      "outputs": [
        {
          "output_type": "execute_result",
          "data": {
            "text/plain": [
              "True"
            ]
          },
          "metadata": {},
          "execution_count": 54
        }
      ]
    },
    {
      "cell_type": "code",
      "source": [
        "## Inequality\n",
        "t3 = res_11 > res_23\n",
        "t4 = res_11 < res_23/23\n",
        "t3"
      ],
      "metadata": {
        "colab": {
          "base_uri": "https://localhost:8080/"
        },
        "id": "T_Y03wBesKnJ",
        "outputId": "fb9aab59-2073-4c7d-fbe8-8ba6c29f5171"
      },
      "execution_count": null,
      "outputs": [
        {
          "output_type": "execute_result",
          "data": {
            "text/plain": [
              "True"
            ]
          },
          "metadata": {},
          "execution_count": 59
        }
      ]
    },
    {
      "cell_type": "markdown",
      "source": [
        "### Logical\n",
        "In Python, logical operators are used to execute logical operations on variable values. Either true or false is the value. There are three basic types of logical operators: logical AND, logical OR, and logical NOT. Keywords or special characters are used to represent operators.\n"
      ],
      "metadata": {
        "id": "eab442XnvGYe"
      }
    },
    {
      "cell_type": "code",
      "source": [
        "res_23 == true_val"
      ],
      "metadata": {
        "colab": {
          "base_uri": "https://localhost:8080/"
        },
        "id": "CAXmnfz0vRLP",
        "outputId": "1008aaf8-fce5-4945-918a-ef34f42daaa6"
      },
      "execution_count": null,
      "outputs": [
        {
          "output_type": "execute_result",
          "data": {
            "text/plain": [
              "False"
            ]
          },
          "metadata": {},
          "execution_count": 60
        }
      ]
    },
    {
      "cell_type": "code",
      "source": [
        "res_11 is true_val"
      ],
      "metadata": {
        "colab": {
          "base_uri": "https://localhost:8080/"
        },
        "id": "7o3rO4u2vVlt",
        "outputId": "43512b3f-aed1-4ea8-dbf5-a0f1d99d4de9"
      },
      "execution_count": null,
      "outputs": [
        {
          "output_type": "execute_result",
          "data": {
            "text/plain": [
              "False"
            ]
          },
          "metadata": {},
          "execution_count": 62
        }
      ]
    },
    {
      "cell_type": "code",
      "source": [
        "res_20 is not true_val"
      ],
      "metadata": {
        "colab": {
          "base_uri": "https://localhost:8080/"
        },
        "id": "JRzALiVDvZva",
        "outputId": "a73ec9a8-32d9-40cc-860e-372449bbf973"
      },
      "execution_count": null,
      "outputs": [
        {
          "output_type": "execute_result",
          "data": {
            "text/plain": [
              "True"
            ]
          },
          "metadata": {},
          "execution_count": 63
        }
      ]
    },
    {
      "cell_type": "code",
      "source": [
        "a, d = True, False\n",
        "conj = a and d\n",
        "conj"
      ],
      "metadata": {
        "colab": {
          "base_uri": "https://localhost:8080/"
        },
        "id": "mfku4ICMzMDn",
        "outputId": "ad1b4a56-018d-433b-eda9-222ecd69086f"
      },
      "execution_count": null,
      "outputs": [
        {
          "output_type": "execute_result",
          "data": {
            "text/plain": [
              "False"
            ]
          },
          "metadata": {},
          "execution_count": 69
        }
      ]
    },
    {
      "cell_type": "code",
      "source": [
        "t, o = True, False\n",
        "disj = t or o\n",
        "disj"
      ],
      "metadata": {
        "colab": {
          "base_uri": "https://localhost:8080/"
        },
        "id": "ee8ZuG_szQl5",
        "outputId": "1ed89484-8ba9-450e-a4cc-0bc9e9ac4b55"
      },
      "execution_count": null,
      "outputs": [
        {
          "output_type": "execute_result",
          "data": {
            "text/plain": [
              "True"
            ]
          },
          "metadata": {},
          "execution_count": 70
        }
      ]
    },
    {
      "cell_type": "code",
      "source": [
        "c, a = True, False\n",
        "nand = not(c and a) \n",
        "nand"
      ],
      "metadata": {
        "colab": {
          "base_uri": "https://localhost:8080/"
        },
        "id": "SGH_ndp4zUyJ",
        "outputId": "7c73651c-8b54-4df3-99cf-bf6c5d48f565"
      },
      "execution_count": null,
      "outputs": [
        {
          "output_type": "execute_result",
          "data": {
            "text/plain": [
              "True"
            ]
          },
          "metadata": {},
          "execution_count": 71
        }
      ]
    },
    {
      "cell_type": "code",
      "source": [
        "r, t = True, False\n",
        "xor = (not r and t) or (r and not t)\n",
        "xor"
      ],
      "metadata": {
        "colab": {
          "base_uri": "https://localhost:8080/"
        },
        "id": "roWaBJ09zeSX",
        "outputId": "8913eaa3-0e79-4f12-dc96-2cdddc42cd80"
      },
      "execution_count": null,
      "outputs": [
        {
          "output_type": "execute_result",
          "data": {
            "text/plain": [
              "True"
            ]
          },
          "metadata": {},
          "execution_count": 72
        }
      ]
    },
    {
      "cell_type": "markdown",
      "source": [
        "### I/O\n",
        "In Python, two built-in functions are used to execute input and output operations (OI Operations). The two built-in functions for performing output and input operations are listed below. print() is a method for generating output. input() is a function that is used to perform input operations.\n"
      ],
      "metadata": {
        "id": "wi7GkwTE0K9z"
      }
    },
    {
      "cell_type": "code",
      "source": [
        "print(\"La Vie Est Belle\")"
      ],
      "metadata": {
        "colab": {
          "base_uri": "https://localhost:8080/"
        },
        "id": "FTZ1fUBq0PW1",
        "outputId": "79a78664-268c-4d3c-e9d5-d5bc7c450798"
      },
      "execution_count": null,
      "outputs": [
        {
          "output_type": "stream",
          "name": "stdout",
          "text": [
            "La Vie Est Belle\n"
          ]
        }
      ]
    },
    {
      "cell_type": "code",
      "source": [
        "cnt = 9"
      ],
      "metadata": {
        "id": "kHbdjjts05bU"
      },
      "execution_count": null,
      "outputs": []
    },
    {
      "cell_type": "code",
      "source": [
        "string = \"La Vie Est Belle\"\n",
        "print(string, \", Current run count is:\", cnt)\n",
        "cnt += 10"
      ],
      "metadata": {
        "colab": {
          "base_uri": "https://localhost:8080/"
        },
        "id": "EX50oXig1GZP",
        "outputId": "ca4014af-f8b6-419f-c203-63d5cb529bf6"
      },
      "execution_count": null,
      "outputs": [
        {
          "output_type": "stream",
          "name": "stdout",
          "text": [
            "La Vie Est Belle , Current run count is: 41\n"
          ]
        }
      ]
    },
    {
      "cell_type": "code",
      "source": [
        "print(f\"{string}, Current count is: {cnt}\")"
      ],
      "metadata": {
        "colab": {
          "base_uri": "https://localhost:8080/"
        },
        "id": "UJUPF8p11W5E",
        "outputId": "d96fbb49-f78a-4351-e884-b557a8899077"
      },
      "execution_count": null,
      "outputs": [
        {
          "output_type": "stream",
          "name": "stdout",
          "text": [
            "La Vie Est Belle, Current count is: 51\n"
          ]
        }
      ]
    },
    {
      "cell_type": "code",
      "source": [
        "sem_grade = 95.7862413892\n",
        "name = \"Tin\"\n",
        "print(\"Hola! {}, your semestral grade is: {}\".format(name, sem_grade))"
      ],
      "metadata": {
        "colab": {
          "base_uri": "https://localhost:8080/"
        },
        "id": "B6eOhKlo1fuk",
        "outputId": "20c9a8d6-4a11-4e27-b204-cba518a53dad"
      },
      "execution_count": null,
      "outputs": [
        {
          "output_type": "stream",
          "name": "stdout",
          "text": [
            "Hola! Tin, your semestral grade is: 95.7862413892\n"
          ]
        }
      ]
    },
    {
      "cell_type": "code",
      "source": [
        "w_pg, w_mg, w_fg = 0.87, 0.90, 0.89\n",
        "print(\"The weight of your semestral grades are:\\\n",
        "\\n\\t{:.3%} for Prelims\\\n",
        "\\n\\t{:.3%} for Midterm, and\\\n",
        "\\n\\t{:.4%} for Finals.\".format(w_pg, w_mg, w_fg))"
      ],
      "metadata": {
        "colab": {
          "base_uri": "https://localhost:8080/"
        },
        "id": "JkJSdyEQ2faC",
        "outputId": "5a0015b4-cd51-464f-dbf8-dd012cb222ab"
      },
      "execution_count": 2,
      "outputs": [
        {
          "output_type": "stream",
          "name": "stdout",
          "text": [
            "The weight of your semestral grades are:\n",
            "\t87.000% for Prelims\n",
            "\t90.000% for Midterm, and\n",
            "\t89.0000% for Finals.\n"
          ]
        }
      ]
    },
    {
      "cell_type": "code",
      "source": [
        "q = input(\"enter your favorite number: \")\n",
        "q"
      ],
      "metadata": {
        "colab": {
          "base_uri": "https://localhost:8080/",
          "height": 53
        },
        "id": "7kXocPsR2-JN",
        "outputId": "8953b6aa-5046-4373-92ae-ecc259070427"
      },
      "execution_count": null,
      "outputs": [
        {
          "name": "stdout",
          "output_type": "stream",
          "text": [
            "enter your favorite number: 23\n"
          ]
        },
        {
          "output_type": "execute_result",
          "data": {
            "application/vnd.google.colaboratory.intrinsic+json": {
              "type": "string"
            },
            "text/plain": [
              "'23'"
            ]
          },
          "metadata": {},
          "execution_count": 106
        }
      ]
    },
    {
      "cell_type": "code",
      "source": [
        "x = float\n",
        "name = input(\"input your name: \")\n",
        "pg = int(input(\"Enter prelim grade: \"))\n",
        "mg = int(input(\"Enter midterm grade: \"))\n",
        "fg = int(input(\"Enter finals grade: \"))\n",
        "x = pg*0.3 + mg*0.3 + fg*0.4\n",
        "sem_grade = x\n",
        "\n",
        "print(\"Hola! {}, your semestral grade is: {}\".format(name, sem_grade))"
      ],
      "metadata": {
        "colab": {
          "base_uri": "https://localhost:8080/"
        },
        "id": "JXdoB36f3bl8",
        "outputId": "88853e4a-2d03-45e4-dc9c-20bc7d472366"
      },
      "execution_count": 14,
      "outputs": [
        {
          "output_type": "stream",
          "name": "stdout",
          "text": [
            "input your name: Kristina\n",
            "Enter prelim grade: 89\n",
            "Enter midterm grade: 90\n",
            "Enter finals grade: 92\n",
            "Hola! Kristina, your semestral grade is: 90.5\n"
          ]
        }
      ]
    },
    {
      "cell_type": "markdown",
      "source": [
        "# Looping Statement\n",
        "Looping statements in python are a way of executing a block of code repeatedly. There are two primary looping constructs in Python: the for loop and the while loop. The for loop is the looping construct used in the for statement. The while loop is the looping construct used in the while statement.\n"
      ],
      "metadata": {
        "id": "rmPRlcY04dMd"
      }
    },
    {
      "cell_type": "markdown",
      "source": [
        "##While\n",
        "While Loop is used to execute a set of statements again and again until a condition is met, and when the condition becomes false, the line immediately after the loop in the program is executed.\n"
      ],
      "metadata": {
        "id": "jzPuapou4lBz"
      }
    },
    {
      "cell_type": "code",
      "source": [
        "## while loops\n",
        "l, u = -9, 5\n",
        "while(l<=u):\n",
        "    print(f\"{l}\\t|\\t{u}\")\n",
        "    l+=1"
      ],
      "metadata": {
        "colab": {
          "base_uri": "https://localhost:8080/"
        },
        "id": "n9N_C0oD4ogn",
        "outputId": "7ee76343-2242-4002-ef58-8a0720122d4b"
      },
      "execution_count": null,
      "outputs": [
        {
          "output_type": "stream",
          "name": "stdout",
          "text": [
            "-9\t|\t5\n",
            "-8\t|\t5\n",
            "-7\t|\t5\n",
            "-6\t|\t5\n",
            "-5\t|\t5\n",
            "-4\t|\t5\n",
            "-3\t|\t5\n",
            "-2\t|\t5\n",
            "-1\t|\t5\n",
            "0\t|\t5\n",
            "1\t|\t5\n",
            "2\t|\t5\n",
            "3\t|\t5\n",
            "4\t|\t5\n",
            "5\t|\t5\n"
          ]
        }
      ]
    },
    {
      "cell_type": "markdown",
      "source": [
        "##For\n",
        "For loop is a control statement that allows code to be executed repeatedly by defining iteration.\n"
      ],
      "metadata": {
        "id": "Cfocz3Rk5bav"
      }
    },
    {
      "cell_type": "code",
      "source": [
        "# for(int i=1; i<16; i++) {\n",
        "# printf(i)\n",
        "# }\n",
        "\n",
        "i=2\n",
        "for i in range(16):\n",
        "    print(i)"
      ],
      "metadata": {
        "colab": {
          "base_uri": "https://localhost:8080/"
        },
        "id": "iSgjagAh6v8G",
        "outputId": "851ecde8-9394-499c-ddf9-1edfaa0399b5"
      },
      "execution_count": null,
      "outputs": [
        {
          "output_type": "stream",
          "name": "stdout",
          "text": [
            "0\n",
            "1\n",
            "2\n",
            "3\n",
            "4\n",
            "5\n",
            "6\n",
            "7\n",
            "8\n",
            "9\n",
            "10\n",
            "11\n",
            "12\n",
            "13\n",
            "14\n",
            "15\n"
          ]
        }
      ]
    },
    {
      "cell_type": "code",
      "source": [
        "playlist = []\n",
        "print('Now Playing:Bruno\\n')\n",
        "for song in playlist:\n",
        "    print(song)"
      ],
      "metadata": {
        "colab": {
          "base_uri": "https://localhost:8080/"
        },
        "id": "v1jtsRKh7M5P",
        "outputId": "bce9a67d-d4f7-4a43-c103-4af144aa5248"
      },
      "execution_count": null,
      "outputs": [
        {
          "output_type": "stream",
          "name": "stdout",
          "text": [
            "Now Playing:Bruno\n",
            "\n"
          ]
        }
      ]
    },
    {
      "cell_type": "markdown",
      "source": [
        "#Flow Control\n",
        "Flow control of a program is the sequence in which the program's code runs. The control flow of a Python program is governed by conditional statements, loops, and function calls. Python's control structures are divided into three categories: The default mode is sequential. Selection is a decision-making and branching tool.\n"
      ],
      "metadata": {
        "id": "ZKJCj9rE7vhM"
      }
    },
    {
      "cell_type": "markdown",
      "source": [
        "##Conditional Statements\n",
        "If conditional statements include more than one condition, they are conditional statements with more than one condition. The second condition is only examined if the first condition is false. If Condition 1 is false, Condition 2 is not tested.\n"
      ],
      "metadata": {
        "id": "Wpx8rtEr70-l"
      }
    },
    {
      "cell_type": "code",
      "source": [
        "numeral11, numeral20 = 28, 79\n",
        "if(numeral11 == numeral20):\n",
        "    print(\"Krasivaya\")\n",
        "elif(numeral11>numeral20):\n",
        "    print(\"Jamila\")\n",
        "else: \n",
        "    print(\"Překrásný\")"
      ],
      "metadata": {
        "colab": {
          "base_uri": "https://localhost:8080/"
        },
        "id": "7jpzBxe378HY",
        "outputId": "447f2e23-ece9-4710-c4e4-e3a54cb4daea"
      },
      "execution_count": null,
      "outputs": [
        {
          "output_type": "stream",
          "name": "stdout",
          "text": [
            "Překrásný\n"
          ]
        }
      ]
    },
    {
      "cell_type": "markdown",
      "source": [
        "#Functions\n",
        "Each function has three components. They do, Function declaration or prototype. This informs the compiler about the function name, function arguments, and the data type of the return value. A function is a reusable chunk of code that is used to accomplish a single, related activity. Functions improve the modularity of your program and allow for more code reuse.\n"
      ],
      "metadata": {
        "id": "WblA3OOp9JwT"
      }
    },
    {
      "cell_type": "code",
      "source": [
        "# void DeleteUser(int userid){\n",
        "#     delete(userid)\n",
        "# }\n",
        "\n",
        "def delete_user (userid):\n",
        "  print(\"Successfully deleted user: {}\".format(userid))\n",
        "\n",
        "def delete_all_users ():\n",
        "  print(\"Successfully deleted all users\")"
      ],
      "metadata": {
        "id": "z6Hh21n39NDi"
      },
      "execution_count": null,
      "outputs": []
    },
    {
      "cell_type": "code",
      "source": [
        "userid = 202010014\n",
        "delete_user(202010014)\n",
        "delete_all_users()"
      ],
      "metadata": {
        "colab": {
          "base_uri": "https://localhost:8080/"
        },
        "id": "e7GJbO5v9RyH",
        "outputId": "ec87efa4-7dca-439a-c752-5483216c91f9"
      },
      "execution_count": null,
      "outputs": [
        {
          "output_type": "stream",
          "name": "stdout",
          "text": [
            "Successfullu deleted user: 202010014\n",
            "Successfully deleted all users\n"
          ]
        }
      ]
    },
    {
      "cell_type": "code",
      "source": [
        "def add(addend1, addend2):\n",
        "    print(\"I know how to add addend1 and addend2\")\n",
        "    return addend1 + addend2\n",
        "\n",
        "def power_of_base2(exponent):\n",
        "    return 12**exponent\n",
        "\n",
        "addend1 = 6\n",
        "addend2 = 876\n",
        "\n",
        "exponent = 9\n",
        "\n",
        "add(addend1, addend2)\n",
        "power_of_base2(exponent)"
      ],
      "metadata": {
        "colab": {
          "base_uri": "https://localhost:8080/"
        },
        "id": "C0sp9NH49Umk",
        "outputId": "73cff143-0aac-4fee-8cd3-1b19bba01337"
      },
      "execution_count": null,
      "outputs": [
        {
          "output_type": "stream",
          "name": "stdout",
          "text": [
            "I know how to add addend1 and addend2\n"
          ]
        },
        {
          "output_type": "execute_result",
          "data": {
            "text/plain": [
              "5159780352"
            ]
          },
          "metadata": {},
          "execution_count": 151
        }
      ]
    },
    {
      "cell_type": "code",
      "source": [
        "add(addend1, addend2)"
      ],
      "metadata": {
        "colab": {
          "base_uri": "https://localhost:8080/"
        },
        "id": "mkgK6gzb9W_Z",
        "outputId": "ba4c4900-b185-400a-a756-38ae8dd38eed"
      },
      "execution_count": null,
      "outputs": [
        {
          "output_type": "stream",
          "name": "stdout",
          "text": [
            "I know how to add addend1 and addend2\n"
          ]
        },
        {
          "output_type": "execute_result",
          "data": {
            "text/plain": [
              "882"
            ]
          },
          "metadata": {},
          "execution_count": 152
        }
      ]
    },
    {
      "cell_type": "markdown",
      "source": [
        "##Assignment\n",
        "Create a grade calculator that computes for the semestral for the semestral grade of a course. Students could type their names,  the name of the course, then their prelim, midterm, and final grade.\n",
        "The program should print the semestral grade in 2 decimal points and should display the following emojis depending on the situation:\n",
        "\n",
        "happy - when grade is greater than 70.00\n",
        "\n",
        "laughing - when grade is exactly 70.00\n",
        "\n",
        "sad - when grade is below 70.00\n",
        "\n",
        "..........\n",
        "\n",
        "happy, lol, sad =\"\\U0001F600\", \"\\U0001F606\", \"\\U0001F62D\"\n"
      ],
      "metadata": {
        "id": "AuOr0NxcNeez"
      }
    },
    {
      "cell_type": "code",
      "source": [
        "x = float\n",
        "print(\"Ni Hao Student!\")\n",
        "name = input(\"Please input your Name: \")\n",
        "course = input(\"Please input your Course: \")\n",
        "str_id = input(\"Please input your ID number. ：\")\n",
        "pg = int(input(\"Enter prelim grade: \"))\n",
        "mg = int(input(\"Enter midterm grade: \"))\n",
        "fg = int(input(\"Enter finals grade: \"))\n",
        "\n",
        "semestral_grade = (pg+mg+fg)/3\n",
        "\n",
        "print(\"Hola! {}, your semestral grade is: {}\".format(name, semestral_grade))\n",
        "\n",
        "happy, lol, sad =  \"\\U0001F600\",\"\\U0001F606\",\"\\U0001F62D\" \n",
        "\n",
        "if semestral_grade>70.00:\n",
        "  print(happy)\n",
        "elif semestral_grade == 70.00:\n",
        "  print(lol)\n",
        "elif semestral_grade<70.00:\n",
        "  print(sad)"
      ],
      "metadata": {
        "colab": {
          "base_uri": "https://localhost:8080/"
        },
        "id": "CDHwS_ZNmsrV",
        "outputId": "3249f891-1f94-4c4a-8a55-4afaafe37f03"
      },
      "execution_count": 22,
      "outputs": [
        {
          "output_type": "stream",
          "name": "stdout",
          "text": [
            "Ni Hao Student!\n",
            "Please input your Name: Kristine\n",
            "Please input your Course: BS Chemical Engineering\n",
            "Please input your ID number. ：202010014\n",
            "Enter prelim grade: 89\n",
            "Enter midterm grade: 89\n",
            "Enter finals grade: 91\n",
            "Hola! Kristine, your semestral grade is: 89.66666666666667\n",
            "😀\n"
          ]
        }
      ]
    },
    {
      "cell_type": "code",
      "source": [
        "x = float\n",
        "print(\"Ni Hao Student!\")\n",
        "name = input(\"Please input your Name: \")\n",
        "course = input(\"Please input your Course: \")\n",
        "str_id = input(\"Please input your ID number. ：\")\n",
        "pg = int(input(\"Enter prelim grade: \"))\n",
        "mg = int(input(\"Enter midterm grade: \"))\n",
        "fg = int(input(\"Enter finals grade: \"))\n",
        "x = pg*0.3 + mg*0.3 + fg*0.4\n",
        "sem_grade = x\n",
        "\n",
        "print(\"Hola! {},your semestral Grade is {:.2f}\\n\".format(name, semestral_grade))\n",
        "\n",
        "\n",
        "happy, lol, sad =  \"\\U0001F600\",\"\\U0001F606\",\"\\U0001F62D\" \n",
        "\n",
        "if semestral_grade>70.00:\n",
        "  print(happy)\n",
        "elif semestral_grade == 70.00:\n",
        "  print(lol)\n",
        "elif semestral_grade<70.00:\n",
        "  print(sad)"
      ],
      "metadata": {
        "colab": {
          "base_uri": "https://localhost:8080/"
        },
        "id": "VLblcTFIqt5I",
        "outputId": "2aabe77d-1d78-4ac1-a9a0-e5967895843f"
      },
      "execution_count": 25,
      "outputs": [
        {
          "output_type": "stream",
          "name": "stdout",
          "text": [
            "Ni Hao Student!\n",
            "Please input your Name: Kristine\n",
            "Please input your Course: BS Chemical Engineering\n",
            "Please input your ID number. ：202010014\n",
            "Enter prelim grade: 89\n",
            "Enter midterm grade: 90\n",
            "Enter finals grade: 92\n",
            "Hola! Kristine,your semestral Grade is 54.67\n",
            "\n",
            "😭\n"
          ]
        }
      ]
    },
    {
      "cell_type": "code",
      "source": [
        "x = float\n",
        "print(\"Ni Hao Student!\")\n",
        "name = input(\"Please input your Name: \")\n",
        "course = input(\"Please input your Course: \")\n",
        "str_id = input(\"Please input your ID number. ：\")\n",
        "pg = int(input(\"Enter prelim grade: \"))\n",
        "mg = int(input(\"Enter midterm grade: \"))\n",
        "fg = int(input(\"Enter finals grade: \"))\n",
        "\n",
        "semestral_grade = (pg+mg+fg)/3\n",
        "\n",
        "print(\"Hola! {},your semestral Grade is {:.2f}\\n\".format(name, semestral_grade))\n",
        "\n",
        "happy, lol, sad =  \"\\U0001F600\",\"\\U0001F606\",\"\\U0001F62D\" \n",
        "\n",
        "if semestral_grade>70.00:\n",
        "  print(happy)\n",
        "elif semestral_grade == 70.00:\n",
        "  print(lol)\n",
        "elif semestral_grade<70.00:\n",
        "  print(sad)"
      ],
      "metadata": {
        "colab": {
          "base_uri": "https://localhost:8080/"
        },
        "id": "9zT6xy5tszeH",
        "outputId": "002cdd21-9ccf-4928-889e-e66e6fd702f6"
      },
      "execution_count": 26,
      "outputs": [
        {
          "output_type": "stream",
          "name": "stdout",
          "text": [
            "Ni Hao Student!\n",
            "Please input your Name: Kristine\n",
            "Please input your Course: BS Chemical Engineering\n",
            "Please input your ID number. ：202010014\n",
            "Enter prelim grade: 89\n",
            "Enter midterm grade: 90\n",
            "Enter finals grade: 92\n",
            "Hola! Kristine,your semestral Grade is 90.33\n",
            "\n",
            "😀\n"
          ]
        }
      ]
    }
  ]
}